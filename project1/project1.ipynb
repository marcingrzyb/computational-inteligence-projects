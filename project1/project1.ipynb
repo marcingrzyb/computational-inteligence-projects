{
  "nbformat": 4,
  "nbformat_minor": 0,
  "metadata": {
    "colab": {
      "name": "project1.ipynb",
      "provenance": [],
      "collapsed_sections": [],
      "toc_visible": true
    },
    "kernelspec": {
      "name": "python3",
      "display_name": "Python 3"
    }
  },
  "cells": [
    {
      "cell_type": "code",
      "metadata": {
        "id": "t4aDAzA0gfns",
        "colab_type": "code",
        "outputId": "146ddfbb-c012-4ab0-dae2-589415b65d6d",
        "colab": {
          "base_uri": "https://localhost:8080/",
          "height": 119
        }
      },
      "source": [
        "!git clone https://github.com/marcingrzyb/computational-intelligence.git"
      ],
      "execution_count": 0,
      "outputs": [
        {
          "output_type": "stream",
          "text": [
            "Cloning into 'computational-intelligence'...\n",
            "remote: Enumerating objects: 13, done.\u001b[K\n",
            "remote: Counting objects: 100% (13/13), done.\u001b[K\n",
            "remote: Compressing objects: 100% (10/10), done.\u001b[K\n",
            "remote: Total 13 (delta 2), reused 0 (delta 0), pack-reused 0\u001b[K\n",
            "Unpacking objects: 100% (13/13), done.\n"
          ],
          "name": "stdout"
        }
      ]
    },
    {
      "cell_type": "code",
      "metadata": {
        "id": "RuVVmPPu1I0J",
        "colab_type": "code",
        "colab": {}
      },
      "source": [
        "with open('/content/computational-intelligence/project1/diagnosis.data', encoding = 'utf-16') as fin, open('/content/computational-intelligence/project1/diagnosis2.data','w+') as fout:\n",
        "    fout.write('a1;a2;a3;a4;a5;a6;d1;d2\\n')\n",
        "    for line in fin:\n",
        "        line=line.replace(',','.')\n",
        "        fout.write(line.replace('\\t', ';'))\n",
        "\n"
      ],
      "execution_count": 0,
      "outputs": []
    },
    {
      "cell_type": "code",
      "metadata": {
        "id": "tpR-h1BXEGQ9",
        "colab_type": "code",
        "colab": {}
      },
      "source": [
        "import pandas as pd\n",
        "df1=pd.read_csv('/content/computational-intelligence/project1/diagnosis2.data',sep=';')\n",
        "\n",
        "df1=df1.replace('no',False)\n",
        "df=df1.replace('yes',True)\n",
        "\n",
        "d1=df.pop('d1') #decision1\n",
        "d2=df.pop('d2')#decision2"
      ],
      "execution_count": 0,
      "outputs": []
    },
    {
      "cell_type": "code",
      "metadata": {
        "id": "MPZ4A0aSLp6m",
        "colab_type": "code",
        "colab": {}
      },
      "source": [
        "import numpy as np\n",
        "from sklearn import metrics\n",
        "from sklearn.model_selection import train_test_split\n",
        "\n",
        "X_train, X_test, y_train, y_test = train_test_split(\n",
        "    df, d1, test_size=0.3, random_state=41, shuffle=True)#d1 value prediction"
      ],
      "execution_count": 0,
      "outputs": []
    },
    {
      "cell_type": "code",
      "metadata": {
        "id": "X6Ejn_ASPdvY",
        "colab_type": "code",
        "outputId": "5f5d3008-6da8-46c5-c8e6-72b571b9eea6",
        "colab": {
          "base_uri": "https://localhost:8080/",
          "height": 68
        }
      },
      "source": [
        "from sklearn.svm import SVC\n",
        "from sklearn.metrics import confusion_matrix\n",
        "\n",
        "clf = SVC()\n",
        "clf.fit(X_train,y_train)\n",
        "\n",
        "y_pred=clf.predict(X_test)\n",
        "cm=confusion_matrix(y_test, y_pred)\n",
        "print(cm)\n",
        "\n",
        "tp = float(cm[0][0])/np.sum(cm[0])\n",
        "\n",
        "print(tp)"
      ],
      "execution_count": 0,
      "outputs": [
        {
          "output_type": "stream",
          "text": [
            "[[17  0]\n",
            " [19  0]]\n",
            "1.0\n"
          ],
          "name": "stdout"
        }
      ]
    }
  ]
}