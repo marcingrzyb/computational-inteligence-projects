{
  "nbformat": 4,
  "nbformat_minor": 0,
  "metadata": {
    "colab": {
      "name": "Copy of project1.ipynb",
      "provenance": [],
      "collapsed_sections": [],
      "toc_visible": true
    },
    "kernelspec": {
      "name": "python3",
      "display_name": "Python 3"
    }
  },
  "cells": [
    {
      "cell_type": "code",
      "metadata": {
        "id": "NB84T8LBtJlT",
        "colab_type": "code",
        "colab": {}
      },
      "source": [
        "#sensitivity SVM\n",
        "#https://archive.ics.uci.edu/ml/datasets/Acute+Inflammations"
      ],
      "execution_count": 0,
      "outputs": []
    },
    {
      "cell_type": "code",
      "metadata": {
        "id": "t4aDAzA0gfns",
        "colab_type": "code",
        "outputId": "51cad641-6333-4171-9044-62459d934f38",
        "colab": {
          "base_uri": "https://localhost:8080/",
          "height": 119
        }
      },
      "source": [
        "!git clone https://github.com/marcingrzyb/computational-intelligence.git"
      ],
      "execution_count": 0,
      "outputs": [
        {
          "output_type": "stream",
          "text": [
            "Cloning into 'computational-intelligence'...\n",
            "remote: Enumerating objects: 31, done.\u001b[K\n",
            "remote: Counting objects: 100% (31/31), done.\u001b[K\n",
            "remote: Compressing objects: 100% (28/28), done.\u001b[K\n",
            "remote: Total 31 (delta 5), reused 0 (delta 0), pack-reused 0\u001b[K\n",
            "Unpacking objects: 100% (31/31), done.\n"
          ],
          "name": "stdout"
        }
      ]
    },
    {
      "cell_type": "code",
      "metadata": {
        "id": "RuVVmPPu1I0J",
        "colab_type": "code",
        "colab": {}
      },
      "source": [
        "with open('/content/computational-intelligence/project1/diagnosis.data', encoding = 'utf-16') as fin, open('/content/computational-intelligence/project1/diagnosis2.data','w+') as fout:\n",
        "    fout.write('a1;a2;a3;a4;a5;a6;d1;d2\\n')\n",
        "    for line in fin:\n",
        "        line=line.replace(',','.')\n",
        "        fout.write(line.replace('\\t', ';'))\n",
        "\n"
      ],
      "execution_count": 0,
      "outputs": []
    },
    {
      "cell_type": "code",
      "metadata": {
        "id": "tpR-h1BXEGQ9",
        "colab_type": "code",
        "colab": {}
      },
      "source": [
        "import pandas as pd\n",
        "import numpy as np\n",
        "df1=pd.read_csv('/content/computational-intelligence/project1/diagnosis2.data',sep=';')\n",
        "\n",
        "df=df1.replace('yes',True).replace('no',False)\n",
        "\n",
        "d1=df.pop('d1') #decision1\n",
        "d2=df.pop('d2')#decision2\n",
        "d1.name='Decision 1'\n",
        "d2.name='Decision 2'"
      ],
      "execution_count": 0,
      "outputs": []
    },
    {
      "cell_type": "code",
      "metadata": {
        "id": "Qy77wPQ9sNML",
        "colab_type": "code",
        "outputId": "7f225cd1-d573-4c34-b4ca-b19e04ee665d",
        "colab": {
          "base_uri": "https://localhost:8080/",
          "height": 255
        }
      },
      "source": [
        "print(df)"
      ],
      "execution_count": 0,
      "outputs": [
        {
          "output_type": "stream",
          "text": [
            "       a1     a2     a3     a4     a5     a6\n",
            "0    35.5  False   True  False  False  False\n",
            "1    35.9  False  False   True   True   True\n",
            "2    35.9  False   True  False  False  False\n",
            "3    36.0  False  False   True   True   True\n",
            "4    36.0  False   True  False  False  False\n",
            "..    ...    ...    ...    ...    ...    ...\n",
            "115  41.4  False   True   True  False   True\n",
            "116  41.5  False  False  False  False  False\n",
            "117  41.5   True   True  False   True  False\n",
            "118  41.5  False   True   True  False   True\n",
            "119  41.5  False   True   True  False   True\n",
            "\n",
            "[120 rows x 6 columns]\n"
          ],
          "name": "stdout"
        }
      ]
    },
    {
      "cell_type": "code",
      "metadata": {
        "id": "j9xqrpTMHROs",
        "colab_type": "code",
        "colab": {}
      },
      "source": [
        "from sklearn.model_selection import train_test_split\n",
        "from sklearn.preprocessing import StandardScaler\n",
        "from sklearn.preprocessing import MinMaxScaler\n",
        "from sklearn.decomposition import PCA\n",
        "\n",
        "def getData(df,results,dType):\n",
        "  dataFrame=df.copy(deep=True)\n",
        "  if(dType=='normalized') :\n",
        "    dataFrame[['a1']]=MinMaxScaler().fit_transform(dataFrame[['a1']])\n",
        "    X_train, X_test, y_train, y_test = train_test_split(\n",
        "      df, results, test_size=0.20, random_state=41,stratify=results)#split to train and test\n",
        "    X_train, X_valid, y_train, y_valid = train_test_split(\n",
        "      X_train, y_train, test_size=0.5, random_state=41, stratify=y_train)#split train to train and validation\n",
        "    return X_train,X_valid,X_test,y_train,y_test,y_valid\n",
        "  elif(dType=='standarized') :\n",
        "    print(dType)\n",
        "    dataFrame[['a1']]=StandardScaler().fit_transform(dataFrame[['a1']])\n",
        "    X_train, X_test, y_train, y_test = train_test_split(\n",
        "      df, results, test_size=0.20, random_state=41, stratify=results)#split to train and test\n",
        "    X_train, X_valid, y_train, y_valid = train_test_split(\n",
        "      X_train, y_train, test_size=0.5, random_state=41, stratify=y_train)#split train to train and validation\n",
        "    return X_train,X_valid,X_test,y_train,y_test,y_valid\n",
        "  elif(dType== 'pca1') :\n",
        "    dataFrame[['a1']]=PCA(n_components=0.5).fit_transform(dataFrame[['a1']])\n",
        "    #dataFrame=dataFrame.pop('a1') #because PCA with n_components=0 returns []\n",
        "    X_train, X_test, y_train, y_test = train_test_split(\n",
        "      df, results, test_size=0.20, random_state=41,stratify=results)#split to train and test\n",
        "    X_train, X_valid, y_train, y_valid = train_test_split(\n",
        "      X_train, y_train, test_size=0.5, random_state=41,stratify=y_train)#split train to train and validation\n",
        "    return X_train,X_valid,X_test,y_train,y_test,y_valid    \n",
        "  elif(dType=='pca2') :\n",
        "    dataFrame[['a1']]=PCA(n_components=1).fit_transform(dataFrame[['a1']])\n",
        "    X_train, X_test, y_train, y_test = train_test_split(\n",
        "      df, results, test_size=0.20, random_state=41,stratify=results)#split to train and test\n",
        "    X_train, X_valid, y_train, y_valid = train_test_split(\n",
        "      X_train, y_train, test_size=0.5, random_state=41, stratify=y_train)#split train to train and validation\n",
        "    return X_train,X_valid,X_test,y_train,y_test,y_valid        \n",
        "  else:\n",
        "    X_train, X_test, y_train, y_test = train_test_split(\n",
        "      df, results, test_size=0.20, random_state=41, stratify=results)#split to train and test\n",
        "    X_train, X_valid, y_train, y_valid = train_test_split(\n",
        "      X_train, y_train, test_size=0.5, random_state=41, stratify=y_train)#split train to train and validation\n",
        "    return X_train,X_valid,X_test,y_train,y_test,y_valid      \n",
        "\n"
      ],
      "execution_count": 0,
      "outputs": []
    },
    {
      "cell_type": "code",
      "metadata": {
        "id": "xG3AtCW4c9Xc",
        "colab_type": "code",
        "colab": {}
      },
      "source": [
        "from sklearn import svm, model_selection\n",
        "\n",
        "def svcGridSearch(X, y, nfolds,C,gamma):\n",
        "    param_grid = {'C': C, 'gamma' : gamma}\n",
        "    grid_search = model_selection.GridSearchCV(svm.SVC(kernel='rbf'), param_grid, cv=nfolds,scoring='balanced_accuracy')\n",
        "    grid_search.fit(X, y)\n",
        "    grid_search.best_params_\n",
        "    return grid_search.best_params_"
      ],
      "execution_count": 0,
      "outputs": []
    },
    {
      "cell_type": "code",
      "metadata": {
        "id": "X6Ejn_ASPdvY",
        "colab_type": "code",
        "colab": {}
      },
      "source": [
        "Cs = [0.001, 0.01, 0.1,1,10]\n",
        "gammas = [0.001, 0.01, 0.1,1,10]"
      ],
      "execution_count": 0,
      "outputs": []
    },
    {
      "cell_type": "code",
      "metadata": {
        "id": "3JkOjGlCpXdp",
        "colab_type": "code",
        "colab": {}
      },
      "source": [
        "from sklearn.metrics import confusion_matrix\n",
        "def prepareRaport(dataFrame,decision,Cs_,gammas_):\n",
        "  print(decision.name+': ')\n",
        "  X_train,X_valid,X_test,y_train,y_test,y_valid=getData(dataFrame,decision,'basic')\n",
        "\n",
        "  bestParams=svcGridSearch(X_valid,y_valid,10,Cs_,gammas_)\n",
        "  clf = svm.SVC(C=bestParams['C'],gamma=bestParams['gamma'])\n",
        "  clf.fit(X_train,y_train)\n",
        "\n",
        "  y_pred=clf.predict(X_test)\n",
        "  cm=confusion_matrix(y_test, y_pred)\n",
        "  print(cm)\n",
        "\n",
        "  sensitivity = float(cm[0][0])/np.sum(cm[0])\n",
        "\n",
        "  print(sensitivity)"
      ],
      "execution_count": 0,
      "outputs": []
    },
    {
      "cell_type": "code",
      "metadata": {
        "id": "t9DDBS_5gXg3",
        "colab_type": "code",
        "outputId": "fb5375db-36a4-412a-c7fe-7469ac6309d2",
        "colab": {
          "base_uri": "https://localhost:8080/",
          "height": 153
        }
      },
      "source": [
        "prepareRaport(df,d1,Cs,gammas)\n",
        "prepareRaport(df,d2,Cs,gammas)"
      ],
      "execution_count": 0,
      "outputs": [
        {
          "output_type": "stream",
          "text": [
            "Decision 1: \n",
            "[[12  0]\n",
            " [ 0 12]]\n",
            "1.0\n",
            "Decision 2: \n",
            "[[14  0]\n",
            " [ 0 10]]\n",
            "1.0\n"
          ],
          "name": "stdout"
        }
      ]
    },
    {
      "cell_type": "code",
      "metadata": {
        "id": "f2ZaCfAsF0bT",
        "colab_type": "code",
        "colab": {}
      },
      "source": [
        "from sklearn.model_selection import cross_val_score\n",
        "Cs = [0.001, 0.01, 0.1,0.5]\n",
        "gammas = [0.001, 0.01, 0.1,10]\n",
        "dataTypes=['basic','normalized','standarized','pca1','pca2']\n",
        "def getBestModel(dataFrame,decision):\n",
        "  results=[]\n",
        "  for dType in dataTypes:\n",
        "    X_train,X_valid,X_test,y_train,y_test,y_valid=getData(df,d1,dType)\n",
        "    for C in Cs:\n",
        "      for gamma in gammas:\n",
        "        results.append((cross_val_score(estimator=svm.SVC(C=C,gamma=gamma), X=X_valid, y=y_valid, cv=10,scoring='balanced_accuracy').mean(),C,gamma,dType))\n",
        "  return results"
      ],
      "execution_count": 0,
      "outputs": []
    },
    {
      "cell_type": "code",
      "metadata": {
        "id": "fln8yLBYV6Nt",
        "colab_type": "code",
        "outputId": "ed4584b8-713c-44a9-c11c-a65abc284b6f",
        "colab": {
          "base_uri": "https://localhost:8080/",
          "height": 1000
        }
      },
      "source": [
        "#Decision 1\n",
        "result=getBestModel(df,d1)\n",
        "print(np.array(result))\n",
        "bestParams=max(result)\n",
        "print(bestParams)"
      ],
      "execution_count": 0,
      "outputs": [
        {
          "output_type": "stream",
          "text": [
            "standarized\n",
            "[['0.5' '0.001' '0.001' 'basic']\n",
            " ['0.5' '0.001' '0.01' 'basic']\n",
            " ['0.5' '0.001' '0.1' 'basic']\n",
            " ['0.5' '0.001' '10' 'basic']\n",
            " ['0.5' '0.01' '0.001' 'basic']\n",
            " ['0.5' '0.01' '0.01' 'basic']\n",
            " ['0.5' '0.01' '0.1' 'basic']\n",
            " ['0.5' '0.01' '10' 'basic']\n",
            " ['0.5' '0.1' '0.001' 'basic']\n",
            " ['0.5' '0.1' '0.01' 'basic']\n",
            " ['0.5' '0.1' '0.1' 'basic']\n",
            " ['0.5' '0.1' '10' 'basic']\n",
            " ['0.5' '0.5' '0.001' 'basic']\n",
            " ['0.5' '0.5' '0.01' 'basic']\n",
            " ['0.8666666666666666' '0.5' '0.1' 'basic']\n",
            " ['0.8833333333333332' '0.5' '10' 'basic']\n",
            " ['0.5' '0.001' '0.001' 'normalized']\n",
            " ['0.5' '0.001' '0.01' 'normalized']\n",
            " ['0.5' '0.001' '0.1' 'normalized']\n",
            " ['0.5' '0.001' '10' 'normalized']\n",
            " ['0.5' '0.01' '0.001' 'normalized']\n",
            " ['0.5' '0.01' '0.01' 'normalized']\n",
            " ['0.5' '0.01' '0.1' 'normalized']\n",
            " ['0.5' '0.01' '10' 'normalized']\n",
            " ['0.5' '0.1' '0.001' 'normalized']\n",
            " ['0.5' '0.1' '0.01' 'normalized']\n",
            " ['0.5' '0.1' '0.1' 'normalized']\n",
            " ['0.5' '0.1' '10' 'normalized']\n",
            " ['0.5' '0.5' '0.001' 'normalized']\n",
            " ['0.5' '0.5' '0.01' 'normalized']\n",
            " ['0.8666666666666666' '0.5' '0.1' 'normalized']\n",
            " ['0.8833333333333332' '0.5' '10' 'normalized']\n",
            " ['0.5' '0.001' '0.001' 'standarized']\n",
            " ['0.5' '0.001' '0.01' 'standarized']\n",
            " ['0.5' '0.001' '0.1' 'standarized']\n",
            " ['0.5' '0.001' '10' 'standarized']\n",
            " ['0.5' '0.01' '0.001' 'standarized']\n",
            " ['0.5' '0.01' '0.01' 'standarized']\n",
            " ['0.5' '0.01' '0.1' 'standarized']\n",
            " ['0.5' '0.01' '10' 'standarized']\n",
            " ['0.5' '0.1' '0.001' 'standarized']\n",
            " ['0.5' '0.1' '0.01' 'standarized']\n",
            " ['0.5' '0.1' '0.1' 'standarized']\n",
            " ['0.5' '0.1' '10' 'standarized']\n",
            " ['0.5' '0.5' '0.001' 'standarized']\n",
            " ['0.5' '0.5' '0.01' 'standarized']\n",
            " ['0.8666666666666666' '0.5' '0.1' 'standarized']\n",
            " ['0.8833333333333332' '0.5' '10' 'standarized']\n",
            " ['0.5' '0.001' '0.001' 'pca1']\n",
            " ['0.5' '0.001' '0.01' 'pca1']\n",
            " ['0.5' '0.001' '0.1' 'pca1']\n",
            " ['0.5' '0.001' '10' 'pca1']\n",
            " ['0.5' '0.01' '0.001' 'pca1']\n",
            " ['0.5' '0.01' '0.01' 'pca1']\n",
            " ['0.5' '0.01' '0.1' 'pca1']\n",
            " ['0.5' '0.01' '10' 'pca1']\n",
            " ['0.5' '0.1' '0.001' 'pca1']\n",
            " ['0.5' '0.1' '0.01' 'pca1']\n",
            " ['0.5' '0.1' '0.1' 'pca1']\n",
            " ['0.5' '0.1' '10' 'pca1']\n",
            " ['0.5' '0.5' '0.001' 'pca1']\n",
            " ['0.5' '0.5' '0.01' 'pca1']\n",
            " ['0.8666666666666666' '0.5' '0.1' 'pca1']\n",
            " ['0.8833333333333332' '0.5' '10' 'pca1']\n",
            " ['0.5' '0.001' '0.001' 'pca2']\n",
            " ['0.5' '0.001' '0.01' 'pca2']\n",
            " ['0.5' '0.001' '0.1' 'pca2']\n",
            " ['0.5' '0.001' '10' 'pca2']\n",
            " ['0.5' '0.01' '0.001' 'pca2']\n",
            " ['0.5' '0.01' '0.01' 'pca2']\n",
            " ['0.5' '0.01' '0.1' 'pca2']\n",
            " ['0.5' '0.01' '10' 'pca2']\n",
            " ['0.5' '0.1' '0.001' 'pca2']\n",
            " ['0.5' '0.1' '0.01' 'pca2']\n",
            " ['0.5' '0.1' '0.1' 'pca2']\n",
            " ['0.5' '0.1' '10' 'pca2']\n",
            " ['0.5' '0.5' '0.001' 'pca2']\n",
            " ['0.5' '0.5' '0.01' 'pca2']\n",
            " ['0.8666666666666666' '0.5' '0.1' 'pca2']\n",
            " ['0.8833333333333332' '0.5' '10' 'pca2']]\n",
            "(0.8833333333333332, 0.5, 10, 'standarized')\n"
          ],
          "name": "stdout"
        }
      ]
    },
    {
      "cell_type": "code",
      "metadata": {
        "id": "8w55HFSRl9xp",
        "colab_type": "code",
        "outputId": "12972cc5-9d51-47d8-a17b-8af36042f71a",
        "colab": {
          "base_uri": "https://localhost:8080/",
          "height": 85
        }
      },
      "source": [
        "X_train,X_valid,X_test,y_train,y_test,y_valid=getData(df,d1,bestParams[3])\n",
        "clf = svm.SVC(C=bestParams[1],gamma=bestParams[2])\n",
        "clf.fit(X_train,y_train)\n",
        "\n",
        "y_pred=clf.predict(X_test)\n",
        "cm=confusion_matrix(y_test, y_pred)\n",
        "print(cm)\n",
        "\n",
        "sensitivity = float(cm[0][0])/np.sum(cm[0])\n",
        "\n",
        "print(sensitivity)"
      ],
      "execution_count": 0,
      "outputs": [
        {
          "output_type": "stream",
          "text": [
            "standarized\n",
            "[[12  0]\n",
            " [ 4  8]]\n",
            "1.0\n"
          ],
          "name": "stdout"
        }
      ]
    },
    {
      "cell_type": "code",
      "metadata": {
        "id": "ygdVfL5nnEjc",
        "colab_type": "code",
        "outputId": "c0d7b39b-f8ac-4c5f-d3c0-c21579fe75d1",
        "colab": {
          "base_uri": "https://localhost:8080/",
          "height": 1000
        }
      },
      "source": [
        "#Decision 2\n",
        "result=getBestModel(df,d2)\n",
        "print(np.array(result))\n",
        "bestParams=max(result)\n",
        "print(bestParams)"
      ],
      "execution_count": 0,
      "outputs": [
        {
          "output_type": "stream",
          "text": [
            "standarized\n",
            "[['0.5' '0.001' '0.001' 'basic']\n",
            " ['0.5' '0.001' '0.01' 'basic']\n",
            " ['0.5' '0.001' '0.1' 'basic']\n",
            " ['0.5' '0.001' '10' 'basic']\n",
            " ['0.5' '0.01' '0.001' 'basic']\n",
            " ['0.5' '0.01' '0.01' 'basic']\n",
            " ['0.5' '0.01' '0.1' 'basic']\n",
            " ['0.5' '0.01' '10' 'basic']\n",
            " ['0.5' '0.1' '0.001' 'basic']\n",
            " ['0.5' '0.1' '0.01' 'basic']\n",
            " ['0.5' '0.1' '0.1' 'basic']\n",
            " ['0.5' '0.1' '10' 'basic']\n",
            " ['0.5' '0.5' '0.001' 'basic']\n",
            " ['0.5' '0.5' '0.01' 'basic']\n",
            " ['0.8666666666666666' '0.5' '0.1' 'basic']\n",
            " ['0.8833333333333332' '0.5' '10' 'basic']\n",
            " ['0.5' '0.001' '0.001' 'normalized']\n",
            " ['0.5' '0.001' '0.01' 'normalized']\n",
            " ['0.5' '0.001' '0.1' 'normalized']\n",
            " ['0.5' '0.001' '10' 'normalized']\n",
            " ['0.5' '0.01' '0.001' 'normalized']\n",
            " ['0.5' '0.01' '0.01' 'normalized']\n",
            " ['0.5' '0.01' '0.1' 'normalized']\n",
            " ['0.5' '0.01' '10' 'normalized']\n",
            " ['0.5' '0.1' '0.001' 'normalized']\n",
            " ['0.5' '0.1' '0.01' 'normalized']\n",
            " ['0.5' '0.1' '0.1' 'normalized']\n",
            " ['0.5' '0.1' '10' 'normalized']\n",
            " ['0.5' '0.5' '0.001' 'normalized']\n",
            " ['0.5' '0.5' '0.01' 'normalized']\n",
            " ['0.8666666666666666' '0.5' '0.1' 'normalized']\n",
            " ['0.8833333333333332' '0.5' '10' 'normalized']\n",
            " ['0.5' '0.001' '0.001' 'standarized']\n",
            " ['0.5' '0.001' '0.01' 'standarized']\n",
            " ['0.5' '0.001' '0.1' 'standarized']\n",
            " ['0.5' '0.001' '10' 'standarized']\n",
            " ['0.5' '0.01' '0.001' 'standarized']\n",
            " ['0.5' '0.01' '0.01' 'standarized']\n",
            " ['0.5' '0.01' '0.1' 'standarized']\n",
            " ['0.5' '0.01' '10' 'standarized']\n",
            " ['0.5' '0.1' '0.001' 'standarized']\n",
            " ['0.5' '0.1' '0.01' 'standarized']\n",
            " ['0.5' '0.1' '0.1' 'standarized']\n",
            " ['0.5' '0.1' '10' 'standarized']\n",
            " ['0.5' '0.5' '0.001' 'standarized']\n",
            " ['0.5' '0.5' '0.01' 'standarized']\n",
            " ['0.8666666666666666' '0.5' '0.1' 'standarized']\n",
            " ['0.8833333333333332' '0.5' '10' 'standarized']\n",
            " ['0.5' '0.001' '0.001' 'pca1']\n",
            " ['0.5' '0.001' '0.01' 'pca1']\n",
            " ['0.5' '0.001' '0.1' 'pca1']\n",
            " ['0.5' '0.001' '10' 'pca1']\n",
            " ['0.5' '0.01' '0.001' 'pca1']\n",
            " ['0.5' '0.01' '0.01' 'pca1']\n",
            " ['0.5' '0.01' '0.1' 'pca1']\n",
            " ['0.5' '0.01' '10' 'pca1']\n",
            " ['0.5' '0.1' '0.001' 'pca1']\n",
            " ['0.5' '0.1' '0.01' 'pca1']\n",
            " ['0.5' '0.1' '0.1' 'pca1']\n",
            " ['0.5' '0.1' '10' 'pca1']\n",
            " ['0.5' '0.5' '0.001' 'pca1']\n",
            " ['0.5' '0.5' '0.01' 'pca1']\n",
            " ['0.8666666666666666' '0.5' '0.1' 'pca1']\n",
            " ['0.8833333333333332' '0.5' '10' 'pca1']\n",
            " ['0.5' '0.001' '0.001' 'pca2']\n",
            " ['0.5' '0.001' '0.01' 'pca2']\n",
            " ['0.5' '0.001' '0.1' 'pca2']\n",
            " ['0.5' '0.001' '10' 'pca2']\n",
            " ['0.5' '0.01' '0.001' 'pca2']\n",
            " ['0.5' '0.01' '0.01' 'pca2']\n",
            " ['0.5' '0.01' '0.1' 'pca2']\n",
            " ['0.5' '0.01' '10' 'pca2']\n",
            " ['0.5' '0.1' '0.001' 'pca2']\n",
            " ['0.5' '0.1' '0.01' 'pca2']\n",
            " ['0.5' '0.1' '0.1' 'pca2']\n",
            " ['0.5' '0.1' '10' 'pca2']\n",
            " ['0.5' '0.5' '0.001' 'pca2']\n",
            " ['0.5' '0.5' '0.01' 'pca2']\n",
            " ['0.8666666666666666' '0.5' '0.1' 'pca2']\n",
            " ['0.8833333333333332' '0.5' '10' 'pca2']]\n",
            "(0.8833333333333332, 0.5, 10, 'standarized')\n"
          ],
          "name": "stdout"
        }
      ]
    },
    {
      "cell_type": "code",
      "metadata": {
        "id": "KDfGv6XFm8_U",
        "colab_type": "code",
        "outputId": "a2f4a5a1-d566-4c80-89ef-9cba44b1a038",
        "colab": {
          "base_uri": "https://localhost:8080/",
          "height": 85
        }
      },
      "source": [
        "X_train,X_valid,X_test,y_train,y_test,y_valid=getData(df,d2,bestParams[3])\n",
        "clf = svm.SVC(C=bestParams[1],gamma=bestParams[2])\n",
        "clf.fit(X_train,y_train)\n",
        "\n",
        "y_pred=clf.predict(X_test)\n",
        "cm=confusion_matrix(y_test, y_pred)\n",
        "print(cm)\n",
        "\n",
        "sensitivity = float(cm[0][0])/np.sum(cm[0])\n",
        "\n",
        "print(sensitivity)"
      ],
      "execution_count": 0,
      "outputs": [
        {
          "output_type": "stream",
          "text": [
            "standarized\n",
            "[[14  0]\n",
            " [ 0 10]]\n",
            "1.0\n"
          ],
          "name": "stdout"
        }
      ]
    }
  ]
}