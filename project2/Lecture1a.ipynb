{
  "nbformat": 4,
  "nbformat_minor": 0,
  "metadata": {
    "colab": {
      "name": "Lecture1a.ipynb",
      "provenance": [],
      "collapsed_sections": []
    },
    "kernelspec": {
      "name": "python3",
      "display_name": "Python 3"
    }
  },
  "cells": [
    {
      "cell_type": "markdown",
      "metadata": {
        "id": "b3hhTF4S2qad",
        "colab_type": "text"
      },
      "source": [
        "Marcin Grzyb marcingrzyb@student.agh.edu.pl \n",
        "Paweł Gałka pawelgalka@student.agh.edu.pl"
      ]
    },
    {
      "cell_type": "markdown",
      "metadata": {
        "id": "FaNFXYvetmTc",
        "colab_type": "text"
      },
      "source": [
        "The problem we are trying to solve here is to classify grayscale images of handwritten digits (28 pixels by 28 pixels), into their 10 \n",
        "categories (0 to 9). The dataset we will use is the MNIST dataset, a classic dataset in the machine learning community, which has been \n",
        "around for almost as long as the field itself and has been very intensively studied. It's a set of 60,000 training images, plus 10,000 test \n",
        "images, assembled by the National Institute of Standards and Technology (the NIST in MNIST) in the 1980s. You can think of \"solving\" MNIST \n",
        "as the \"Hello World\" of deep learning -- it's what you do to verify that your algorithms are working as expected. As you become a machine \n",
        "learning practitioner, you will see MNIST come up over and over again, in scientific papers, blog posts, and so on."
      ]
    },
    {
      "cell_type": "code",
      "metadata": {
        "id": "xpCGHhYWrLEi",
        "colab_type": "code",
        "colab": {}
      },
      "source": [
        "import cv2\n",
        "import numpy as np\n",
        "import matplotlib.pyplot as plt\n",
        "from sklearn.metrics import classification_report, confusion_matrix\n",
        "from sklearn import svm\n",
        "from sklearn.ensemble import RandomForestClassifier\n"
      ],
      "execution_count": 0,
      "outputs": []
    },
    {
      "cell_type": "code",
      "metadata": {
        "id": "qN2OlmW3rUll",
        "colab_type": "code",
        "colab": {}
      },
      "source": [
        "## [deskew]\n",
        "SZ=28\n",
        "affine_flags = cv2.WARP_INVERSE_MAP|cv2.INTER_LINEAR\n",
        "\n",
        "def deskew(img):\n",
        "    m = cv2.moments(img)\n",
        "    if abs(m['mu02']) < 1e-2:\n",
        "        return img.copy()\n",
        "    skew = m['mu11']/m['mu02']\n",
        "    M = np.float32([[1, skew, -0.5*SZ*skew], [0, 1, 0]])\n",
        "    img = cv2.warpAffine(img,M,(SZ, SZ),flags=affine_flags)\n",
        "    return img\n",
        "## [deskew]\n"
      ],
      "execution_count": 0,
      "outputs": []
    },
    {
      "cell_type": "code",
      "metadata": {
        "id": "UvIsa5nzrbzK",
        "colab_type": "code",
        "colab": {}
      },
      "source": [
        "def showOpencvImage(image, isGray=False):\n",
        "    fig = plt.figure(figsize=(6, 6))\n",
        "    plt.imshow(image, cmap = 'gray')\n",
        "    plt.show()"
      ],
      "execution_count": 0,
      "outputs": []
    },
    {
      "cell_type": "code",
      "metadata": {
        "id": "kegBUVlCrepj",
        "colab_type": "code",
        "colab": {}
      },
      "source": [
        "def openCVHOG(im):\n",
        "    winSize = (20,20)\n",
        "    blockSize = (10,10)\n",
        "    blockStride = (5,5)\n",
        "    cellSize = (10,10)\n",
        "    nbins = 9\n",
        "    derivAperture = 1\n",
        "    winSigma = -1.\n",
        "    histogramNormType = 0\n",
        "    L2HysThreshold = 0.2\n",
        "    gammaCorrection = 1\n",
        "    nlevels = 64\n",
        "    signedGradients = True\n",
        "\n",
        "    hog = cv2.HOGDescriptor(winSize,blockSize,blockStride,cellSize,nbins,derivAperture,winSigma,histogramNormType,L2HysThreshold,gammaCorrection,nlevels, signedGradients)\n",
        "    descriptor = np.ravel(hog.compute(im))\n",
        "    \n",
        "    return descriptor"
      ],
      "execution_count": 0,
      "outputs": []
    },
    {
      "cell_type": "code",
      "metadata": {
        "id": "q1sFjdRI0o-7",
        "colab_type": "code",
        "colab": {}
      },
      "source": [
        "from skimage.feature import haar_like_feature\n",
        "from skimage.transform import integral_image\n",
        "def haarFeature(im):\n",
        "  return haar_like_feature(integral_image(im),0,0,20,20,feature_type=['type-4'])\n"
      ],
      "execution_count": 0,
      "outputs": []
    },
    {
      "cell_type": "markdown",
      "metadata": {
        "id": "pdrhgmwhtuaa",
        "colab_type": "text"
      },
      "source": [
        "The **MNIST dataset comes pre-loaded in Keras**, in the form of a set of four Numpy arrays:"
      ]
    },
    {
      "cell_type": "code",
      "metadata": {
        "id": "2xkMAbtsrhnc",
        "colab_type": "code",
        "colab": {}
      },
      "source": [
        "from keras.datasets import mnist\n",
        "\n",
        "(train_images, train_labels), (test_images, test_labels) = mnist.load_data()"
      ],
      "execution_count": 0,
      "outputs": []
    },
    {
      "cell_type": "code",
      "metadata": {
        "id": "zFI_DcizBXS2",
        "colab_type": "code",
        "colab": {}
      },
      "source": [
        "#reshaping raw data\n",
        "train_images_raw = train_images.reshape((60000, 28 * 28))\n",
        "train_images_raw = train_images_raw.astype('float32') / 255\n",
        "\n",
        "test_images_raw = test_images.reshape((10000, 28 * 28))\n",
        "test_images_raw = test_images_raw.astype('float32') / 255\n",
        "\n",
        "train_images_raw=train_images_raw[0:1000,:]\n",
        "test_images_raw=test_images_raw[0:400,:]\n",
        "\n",
        "train_labels_raw=train_labels[0:1000]\n",
        "test_labels_raw=test_labels[0:400]\n",
        "\n",
        "\n"
      ],
      "execution_count": 0,
      "outputs": []
    },
    {
      "cell_type": "markdown",
      "metadata": {
        "id": "CCudt-Es4qMi",
        "colab_type": "text"
      },
      "source": [
        "Test klasyfikatora SVC z surowymi danymi na wejściu"
      ]
    },
    {
      "cell_type": "code",
      "metadata": {
        "colab_type": "code",
        "id": "GhGPNwcs_sv7",
        "outputId": "df1fa99f-10e2-483d-edcd-1a10647daebb",
        "colab": {
          "base_uri": "https://localhost:8080/",
          "height": 510
        }
      },
      "source": [
        "import numpy\n",
        "from sklearn.model_selection import cross_val_score\n",
        "#kfold cross validation parameters selection\n",
        "results=[]\n",
        "for c in numpy.arange(15,20,1):\n",
        "  for g in numpy.arange(0.1,2.1,0.5):\n",
        "    results.append((cross_val_score(estimator = svm.SVC(C=c,gamma=g).fit(train_images_raw[0:400,:],train_labels_raw[0:400]), X = train_images_raw[0:400,:], y = train_labels_raw[0:400], cv = 5).mean(),c,g))\n",
        "\n",
        "\n",
        "bestParams=max(results)\n",
        "print(\"Parametry modelu \",bestParams[1:])\n",
        "\n",
        "model = svm.SVC(C=bestParams[1],gamma=bestParams[2],class_weight='balanced')\n",
        "model = model.fit(train_images_raw[400:1000,:],train_labels_raw[400:1000])\n",
        "\n",
        "\n",
        "pred_labels = model.predict(test_images_raw)\n",
        "\n",
        "mask = pred_labels==test_labels_raw\n",
        "correct = np.count_nonzero(mask)\n",
        "print(\"Procent skutecznych klasyfikacji: \", correct*100.0/pred_labels.size)\n",
        "\n",
        "cm = confusion_matrix(test_labels_raw, pred_labels)\n",
        "print(cm)\n",
        "print(classification_report(test_labels_raw, pred_labels))\n",
        "\n"
      ],
      "execution_count": 37,
      "outputs": [
        {
          "output_type": "stream",
          "text": [
            "Parametry modelu  (19, 0.1)\n",
            "Procent skutecznych klasyfikacji:  55.5\n",
            "[[20  0  0  0  0  0  0 13  0  0]\n",
            " [ 0 56  0  0  0  0  0  1  0  0]\n",
            " [ 0  0 14  0  0  0  0 30  0  0]\n",
            " [ 0  0  1  2  0  6  0 26  0  0]\n",
            " [ 0  0  0  0 36  0  0  9  0  1]\n",
            " [ 0  0  0  0  1 22  0 19  0  0]\n",
            " [ 0  0  0  0  0  2 14 18  0  0]\n",
            " [ 0  0  0  0  0  0  0 41  0  0]\n",
            " [ 0  0  1  0  0  0  0 21  5  0]\n",
            " [ 0  0  0  0  4  0  0 25  0 12]]\n",
            "              precision    recall  f1-score   support\n",
            "\n",
            "           0       1.00      0.61      0.75        33\n",
            "           1       1.00      0.98      0.99        57\n",
            "           2       0.88      0.32      0.47        44\n",
            "           3       1.00      0.06      0.11        35\n",
            "           4       0.88      0.78      0.83        46\n",
            "           5       0.73      0.52      0.61        42\n",
            "           6       1.00      0.41      0.58        34\n",
            "           7       0.20      1.00      0.34        41\n",
            "           8       1.00      0.19      0.31        27\n",
            "           9       0.92      0.29      0.44        41\n",
            "\n",
            "    accuracy                           0.56       400\n",
            "   macro avg       0.86      0.52      0.54       400\n",
            "weighted avg       0.85      0.56      0.57       400\n",
            "\n"
          ],
          "name": "stdout"
        }
      ]
    },
    {
      "cell_type": "markdown",
      "metadata": {
        "id": "nHWdo3X-43ze",
        "colab_type": "text"
      },
      "source": [
        "Test klasyfikatora RFC z surowymi danymi na wejściu"
      ]
    },
    {
      "cell_type": "code",
      "metadata": {
        "id": "K5O72UzSFwE0",
        "colab_type": "code",
        "outputId": "58ef7986-7e97-442f-a548-1dffba5cb85a",
        "colab": {
          "base_uri": "https://localhost:8080/",
          "height": 510
        }
      },
      "source": [
        "#raw data test rfc\n",
        "\n",
        "import numpy\n",
        "from sklearn.model_selection import cross_val_score\n",
        "#kfold cross validation parameters selection\n",
        "results=[]\n",
        "for maxd in numpy.arange(5,15,5):\n",
        "  for nestim in numpy.arange(60,120,20):\n",
        "    for maxf in numpy.arange(15,45,15):#obszar poszukiwan parametrow ograniczony aby przyspieszyc wykonywanie sie skryptu, uwzgledniajac wartosci znalezione przy przesuzkiwaniu wiekszej kombinacji \n",
        "      results.append((cross_val_score(estimator = RandomForestClassifier(max_depth=maxd, n_estimators=nestim, max_features=maxf).fit(train_images_raw[0:400,:],train_labels_raw[0:400]), X = train_images_raw[0:400,:], y = train_labels_raw[0:400], cv = 5).mean(),maxd,nestim,maxf))\n",
        "\n",
        "bestParams=max(results)\n",
        "print(\"Parametry modelu \",bestParams[1:])\n",
        "\n",
        "rfc =  RandomForestClassifier(max_depth=bestParams[1], n_estimators=bestParams[2], max_features=bestParams[3],class_weight='balanced')\n",
        "rfc = rfc.fit(train_images_raw[400:1000,:],train_labels_raw[400:1000])\n",
        "\n",
        "pred_labels = rfc.predict(test_images_raw)\n",
        "\n",
        "mask = pred_labels==test_labels_raw\n",
        "correct = np.count_nonzero(mask)\n",
        "print(\"Procent skutecznych klasyfikacji: \", correct*100.0/pred_labels.size)\n",
        "\n",
        "cm = confusion_matrix(test_labels_raw, pred_labels)\n",
        "print(cm)\n",
        "print(classification_report(test_labels_raw, pred_labels))\n"
      ],
      "execution_count": 38,
      "outputs": [
        {
          "output_type": "stream",
          "text": [
            "Parametry modelu  (10, 100, 30)\n",
            "Procent skutecznych klasyfikacji:  84.5\n",
            "[[32  0  0  0  0  0  0  1  0  0]\n",
            " [ 0 57  0  0  0  0  0  0  0  0]\n",
            " [ 0  0 34  2  0  0  2  5  1  0]\n",
            " [ 0  0  2 21  1  8  0  3  0  0]\n",
            " [ 0  0  0  1 39  1  2  0  0  3]\n",
            " [ 1  1  0  0  2 35  0  2  0  1]\n",
            " [ 1  0  3  0  2  1 25  0  2  0]\n",
            " [ 0  0  0  0  0  0  0 41  0  0]\n",
            " [ 0  0  1  0  1  2  0  0 22  1]\n",
            " [ 0  1  1  0  2  2  0  3  0 32]]\n",
            "              precision    recall  f1-score   support\n",
            "\n",
            "           0       0.94      0.97      0.96        33\n",
            "           1       0.97      1.00      0.98        57\n",
            "           2       0.83      0.77      0.80        44\n",
            "           3       0.88      0.60      0.71        35\n",
            "           4       0.83      0.85      0.84        46\n",
            "           5       0.71      0.83      0.77        42\n",
            "           6       0.86      0.74      0.79        34\n",
            "           7       0.75      1.00      0.85        41\n",
            "           8       0.88      0.81      0.85        27\n",
            "           9       0.86      0.78      0.82        41\n",
            "\n",
            "    accuracy                           0.84       400\n",
            "   macro avg       0.85      0.84      0.84       400\n",
            "weighted avg       0.85      0.84      0.84       400\n",
            "\n"
          ],
          "name": "stdout"
        }
      ]
    },
    {
      "cell_type": "markdown",
      "metadata": {
        "id": "lmUXdwfj5eT0",
        "colab_type": "text"
      },
      "source": [
        "Przygotowywanie danych z użyciem funkcji deskew"
      ]
    },
    {
      "cell_type": "code",
      "metadata": {
        "id": "oNHSPTM3rnHx",
        "colab_type": "code",
        "outputId": "fa8aa276-5d1c-4e15-ff48-f609606f0e18",
        "colab": {
          "base_uri": "https://localhost:8080/",
          "height": 799
        }
      },
      "source": [
        "im_list = [train_images[i] for i in range(0,train_images.shape[0])] + [test_images[i] for i in range(0,test_images.shape[0])]\n",
        "print(len(im_list))\n",
        "\n",
        "im_list_labels=[train_labels[i] for i in range(0,train_labels.shape[0])] + [test_labels[i] for i in range(0,test_labels.shape[0])]\n",
        "print(len(im_list_labels))\n",
        "\n",
        "train_deskewed = [deskew(im) for im in im_list[0:train_images.shape[0]]]\n",
        "test_deskewed = [deskew(im) for im in im_list[train_images.shape[0]:]]\n",
        "\n",
        "train_deskewed = np.asarray(train_deskewed)\n",
        "test_deskewed = np.asarray(test_deskewed)\n",
        "\n",
        "#creating deskewed  dataset\n",
        "im_list_deskewed = [train_deskewed[i] for i in range(0,train_deskewed.shape[0])] + [test_deskewed[i] for i in range(0,test_deskewed.shape[0])]\n",
        "#\n",
        "\n",
        "showOpencvImage(train_images[1])\n",
        "print(train_labels[1])\n",
        "\n",
        "showOpencvImage(train_deskewed[1])\n",
        "print(train_labels[1])\n"
      ],
      "execution_count": 39,
      "outputs": [
        {
          "output_type": "stream",
          "text": [
            "70000\n",
            "70000\n"
          ],
          "name": "stdout"
        },
        {
          "output_type": "display_data",
          "data": {
            "image/png": "[encoded data removed]",
            "text/plain": [
              "<Figure size 432x432 with 1 Axes>"
            ]
          },
          "metadata": {
            "tags": []
          }
        },
        {
          "output_type": "stream",
          "text": [
            "0\n"
          ],
          "name": "stdout"
        },
        {
          "output_type": "display_data",
          "data": {
            "image/png": "[encoded data removed]",
            "text/plain": [
              "<Figure size 432x432 with 1 Axes>"
            ]
          },
          "metadata": {
            "tags": []
          }
        },
        {
          "output_type": "stream",
          "text": [
            "0\n"
          ],
          "name": "stdout"
        }
      ]
    },
    {
      "cell_type": "markdown",
      "metadata": {
        "id": "VpRCHwuU58_2",
        "colab_type": "text"
      },
      "source": [
        "Deskrptor HOG na danych nie wyprostowanych z użyciem funkcji deskew"
      ]
    },
    {
      "cell_type": "code",
      "metadata": {
        "id": "tbM91U4_rrHC",
        "colab_type": "code",
        "outputId": "e9d1f016-16d0-43d9-af2b-140f95559f1b",
        "colab": {
          "base_uri": "https://localhost:8080/",
          "height": 68
        }
      },
      "source": [
        "hogdata = [openCVHOG(im) for im in im_list]\n",
        "print(len(hogdata))\n",
        "print(hogdata[0].shape)\n",
        "imData = np.float32(hogdata).reshape(-1,81)\n",
        "print(imData.shape)\n",
        "\n"
      ],
      "execution_count": 40,
      "outputs": [
        {
          "output_type": "stream",
          "text": [
            "70000\n",
            "(81,)\n",
            "(70000, 81)\n"
          ],
          "name": "stdout"
        }
      ]
    },
    {
      "cell_type": "markdown",
      "metadata": {
        "id": "uosxhDS9BANI",
        "colab_type": "text"
      },
      "source": [
        "Deskrptor HOG na danych wyprostowanych z użyciem funkcji deskew"
      ]
    },
    {
      "cell_type": "code",
      "metadata": {
        "id": "jZ6YYO-dKqft",
        "colab_type": "code",
        "outputId": "a9e6673d-e6a3-40f6-fb17-d94757a28264",
        "colab": {
          "base_uri": "https://localhost:8080/",
          "height": 68
        }
      },
      "source": [
        "hogdata2 = [openCVHOG(im) for im in im_list_deskewed]\n",
        "print(len(hogdata2))\n",
        "print(hogdata2[0].shape)\n",
        "imData2 = np.float32(hogdata2).reshape(-1,81)\n",
        "print(imData2.shape)"
      ],
      "execution_count": 41,
      "outputs": [
        {
          "output_type": "stream",
          "text": [
            "70000\n",
            "(81,)\n",
            "(70000, 81)\n"
          ],
          "name": "stdout"
        }
      ]
    },
    {
      "cell_type": "markdown",
      "metadata": {
        "id": "AOA4nZVHA95w",
        "colab_type": "text"
      },
      "source": [
        "Deskrptor cech Haara na danych wyprostowanych z użyciem funkcji deskew"
      ]
    },
    {
      "cell_type": "code",
      "metadata": {
        "id": "1Q9PFixiw4QR",
        "colab_type": "code",
        "outputId": "88b6967c-fa58-4b85-e593-a2457400aa17",
        "colab": {
          "base_uri": "https://localhost:8080/",
          "height": 51
        }
      },
      "source": [
        "#using haar\n",
        "haardata=[haarFeature(im) for im in im_list_deskewed[0:1400]]\n",
        "print(haardata[0].shape)\n",
        "imData3 = np.float32(haardata).reshape(-1,10000)\n",
        "print(imData3.shape)"
      ],
      "execution_count": 42,
      "outputs": [
        {
          "output_type": "stream",
          "text": [
            "(10000,)\n",
            "(1400, 10000)\n"
          ],
          "name": "stdout"
        }
      ]
    },
    {
      "cell_type": "markdown",
      "metadata": {
        "id": "t7LNkd2K8Vsf",
        "colab_type": "text"
      },
      "source": [
        "Klasyfikator SVC na danych bez użycia funkcji deskew, deskryptor HOG"
      ]
    },
    {
      "cell_type": "code",
      "metadata": {
        "id": "NbQHTEikr1J_",
        "colab_type": "code",
        "outputId": "0908df81-1dec-41ff-bacb-b26dd90f6855",
        "colab": {
          "base_uri": "https://localhost:8080/",
          "height": 510
        }
      },
      "source": [
        "\n",
        "import numpy\n",
        "from sklearn.model_selection import cross_val_score\n",
        "#kfold cross validation parameters selection\n",
        "results=[]\n",
        "for c in numpy.arange(20,30,1):\n",
        "  for g in numpy.arange(0.1,1.1,0.1):\n",
        "    results.append((cross_val_score(estimator = svm.SVC(C=c,gamma=g).fit(imData[0:400,:],im_list_labels[0:400]), X = imData[0:400,:], y = im_list_labels[0:400], cv = 5).mean(),c,g))\n",
        "\n",
        "\n",
        "bestParams=max(results)\n",
        "print(\"Parametry modelu \",bestParams[1:])\n",
        "\n",
        "model = svm.SVC(C=bestParams[1],gamma=bestParams[2],class_weight='balanced')\n",
        "model = model.fit(imData[400:1000,:],im_list_labels[400:1000])\n",
        "\n",
        "pred_labels = model.predict(imData[1000:1400,:])\n",
        "\n",
        "\n",
        "mask = pred_labels==im_list_labels[1000:1400]\n",
        "correct = np.count_nonzero(mask)\n",
        "print(\"Procent skutecznych klasyfikacji: \", correct*100.0/pred_labels.size)\n",
        "\n",
        "cm = confusion_matrix(im_list_labels[1000:1400], pred_labels)\n",
        "print(cm)\n",
        "print(classification_report(im_list_labels[1000:1400], pred_labels))"
      ],
      "execution_count": 43,
      "outputs": [
        {
          "output_type": "stream",
          "text": [
            "Parametry modelu  (29, 0.6)\n",
            "Procent skutecznych klasyfikacji:  89.25\n",
            "[[31  0  0  0  0  0  1  0  1  2]\n",
            " [ 0 41  3  0  0  0  1  0  0  0]\n",
            " [ 0  0 33  1  0  1  0  2  0  1]\n",
            " [ 0  1  5 24  1  2  0  2  0  3]\n",
            " [ 0  0  0  0 42  0  0  0  1  0]\n",
            " [ 0  0  1  0  0 27  0  0  2  2]\n",
            " [ 0  0  0  0  2  0 35  0  0  0]\n",
            " [ 1  0  1  1  0  1  0 46  0  0]\n",
            " [ 0  0  0  0  0  1  0  0 36  1]\n",
            " [ 0  0  0  1  0  0  0  1  0 42]]\n",
            "              precision    recall  f1-score   support\n",
            "\n",
            "           0       0.97      0.89      0.93        35\n",
            "           1       0.98      0.91      0.94        45\n",
            "           2       0.77      0.87      0.81        38\n",
            "           3       0.89      0.63      0.74        38\n",
            "           4       0.93      0.98      0.95        43\n",
            "           5       0.84      0.84      0.84        32\n",
            "           6       0.95      0.95      0.95        37\n",
            "           7       0.90      0.92      0.91        50\n",
            "           8       0.90      0.95      0.92        38\n",
            "           9       0.82      0.95      0.88        44\n",
            "\n",
            "    accuracy                           0.89       400\n",
            "   macro avg       0.89      0.89      0.89       400\n",
            "weighted avg       0.90      0.89      0.89       400\n",
            "\n"
          ],
          "name": "stdout"
        }
      ]
    },
    {
      "cell_type": "markdown",
      "metadata": {
        "id": "VuKiQqcc81QZ",
        "colab_type": "text"
      },
      "source": [
        "Klasyfikator SVC na danych z użyciem funkcji deskew, deskryptor HOG"
      ]
    },
    {
      "cell_type": "code",
      "metadata": {
        "id": "WUKyLmH0KsWq",
        "colab_type": "code",
        "outputId": "cdc10f68-9f85-4195-abc0-7162d21cf4b4",
        "colab": {
          "base_uri": "https://localhost:8080/",
          "height": 510
        }
      },
      "source": [
        "import numpy\n",
        "from sklearn.model_selection import cross_val_score\n",
        "#kfold cross validation parameters selection\n",
        "results=[]\n",
        "for c in numpy.arange(10,20,1):\n",
        "  for g in numpy.arange(0.1,1.1,0.2):\n",
        "    results.append((cross_val_score(estimator = svm.SVC(C=c,gamma=g).fit(imData2[0:400,:],im_list_labels[0:400]), X = imData2[0:400,:], y = im_list_labels[0:400], cv = 5).mean(),c,g))\n",
        "\n",
        "\n",
        "bestParams=max(results)\n",
        "print(\"Parametry modelu \",bestParams[1:])\n",
        "\n",
        "model2 = svm.SVC(C=bestParams[1],gamma=bestParams[2],class_weight='balanced')\n",
        "\n",
        "model2 = model2.fit(imData2[400:1000,:],im_list_labels[400:1000])\n",
        "\n",
        "pred_labels2 = model2.predict(imData2[1000:1400,:])\n",
        "\n",
        "\n",
        "#svc on deskewed dataset reults\n",
        "mask2 = pred_labels2==im_list_labels[1000:1400]\n",
        "correct2 = np.count_nonzero(mask2)\n",
        "print(\"Procent skutecznych klasyfikacji: \", correct2*100.0/pred_labels2.size)\n",
        "\n",
        "cm2 = confusion_matrix(im_list_labels[1000:1400], pred_labels2)\n",
        "print(cm2)\n",
        "print(classification_report(im_list_labels[1000:1400], pred_labels2))"
      ],
      "execution_count": 44,
      "outputs": [
        {
          "output_type": "stream",
          "text": [
            "Parametry modelu  (11, 0.1)\n",
            "Procent skutecznych klasyfikacji:  91.75\n",
            "[[33  0  0  0  0  0  0  0  1  1]\n",
            " [ 0 44  0  0  1  0  0  0  0  0]\n",
            " [ 0  0 32  3  2  0  0  1  0  0]\n",
            " [ 0  0  4 25  0  1  0  2  0  6]\n",
            " [ 0  0  0  0 42  0  1  0  0  0]\n",
            " [ 0  0  0  0  0 30  0  0  1  1]\n",
            " [ 0  0  0  0  2  0 35  0  0  0]\n",
            " [ 0  0  1  1  0  1  0 45  1  1]\n",
            " [ 0  0  0  0  0  0  0  0 37  1]\n",
            " [ 0  0  0  0  0  0  0  0  0 44]]\n",
            "              precision    recall  f1-score   support\n",
            "\n",
            "           0       1.00      0.94      0.97        35\n",
            "           1       1.00      0.98      0.99        45\n",
            "           2       0.86      0.84      0.85        38\n",
            "           3       0.86      0.66      0.75        38\n",
            "           4       0.89      0.98      0.93        43\n",
            "           5       0.94      0.94      0.94        32\n",
            "           6       0.97      0.95      0.96        37\n",
            "           7       0.94      0.90      0.92        50\n",
            "           8       0.93      0.97      0.95        38\n",
            "           9       0.81      1.00      0.90        44\n",
            "\n",
            "    accuracy                           0.92       400\n",
            "   macro avg       0.92      0.92      0.92       400\n",
            "weighted avg       0.92      0.92      0.92       400\n",
            "\n"
          ],
          "name": "stdout"
        }
      ]
    },
    {
      "cell_type": "markdown",
      "metadata": {
        "id": "M8jFDxU7BIWc",
        "colab_type": "text"
      },
      "source": [
        "Klasyfikator SVC na danych z użyciem funkcji deskew, deskryptor cechy Haara(bardzo słaby wynik!)"
      ]
    },
    {
      "cell_type": "code",
      "metadata": {
        "id": "3FjR-Usd-GVQ",
        "colab_type": "code",
        "outputId": "95ae166f-35d1-4718-bd23-595ebab1c144",
        "colab": {
          "base_uri": "https://localhost:8080/",
          "height": 564
        }
      },
      "source": [
        "import numpy\n",
        "from sklearn.model_selection import cross_val_score\n",
        "#kfold cross validation parameters selection\n",
        "results=[]\n",
        "for c in numpy.arange(75,90,15):\n",
        "  for g in numpy.arange(4.5,6.5,1):#obszar poszukiwan ograniczony ze wzgledu na czas wykonywania walidacji krzyzowej przy uzyciu deskryptora cech Haara\n",
        "    results.append((cross_val_score(estimator = svm.SVC(C=c,gamma=g).fit(imData3[0:400,:],im_list_labels[0:400]), X = imData3[0:400,:], y = im_list_labels[0:400], cv = 5).mean(),c,g))\n",
        "\n",
        "\n",
        "bestParams=max(results)\n",
        "print(\"Parametry modelu \",bestParams[1:])\n",
        "\n",
        "model2 = svm.SVC(C=bestParams[1],gamma=bestParams[2],class_weight='balanced')\n",
        "\n",
        "model2 = model2.fit(imData3[400:1000,:],im_list_labels[400:1000])\n",
        "\n",
        "pred_labels2 = model2.predict(imData3[1000:1400,:])\n",
        "\n",
        "#svc on deskewed dataset reults with haar\n",
        "mask2 = pred_labels2==train_labels[1000:1400]\n",
        "correct2 = np.count_nonzero(mask2)\n",
        "print(\"Procent skutecznych klasyfikacji: \", correct2*100.0/pred_labels2.size)\n",
        "\n",
        "cm2 = confusion_matrix(train_labels[1000:1400], pred_labels2)\n",
        "print(cm2)\n",
        "print(classification_report(train_labels[1000:1400], pred_labels2))"
      ],
      "execution_count": 45,
      "outputs": [
        {
          "output_type": "stream",
          "text": [
            "Parametry modelu  (75, 5.5)\n",
            "Procent skutecznych klasyfikacji:  12.5\n",
            "[[ 0  0  0  0  0  0  0 35  0  0]\n",
            " [ 0  0  0  0  0  0  0 45  0  0]\n",
            " [ 0  0  0  0  0  0  0 38  0  0]\n",
            " [ 0  0  0  0  0  0  0 38  0  0]\n",
            " [ 0  0  0  0  0  0  0 43  0  0]\n",
            " [ 0  0  0  0  0  0  0 32  0  0]\n",
            " [ 0  0  0  0  0  0  0 37  0  0]\n",
            " [ 0  0  0  0  0  0  0 50  0  0]\n",
            " [ 0  0  0  0  0  0  0 38  0  0]\n",
            " [ 0  0  0  0  0  0  0 44  0  0]]\n",
            "              precision    recall  f1-score   support\n",
            "\n",
            "           0       0.00      0.00      0.00        35\n",
            "           1       0.00      0.00      0.00        45\n",
            "           2       0.00      0.00      0.00        38\n",
            "           3       0.00      0.00      0.00        38\n",
            "           4       0.00      0.00      0.00        43\n",
            "           5       0.00      0.00      0.00        32\n",
            "           6       0.00      0.00      0.00        37\n",
            "           7       0.12      1.00      0.22        50\n",
            "           8       0.00      0.00      0.00        38\n",
            "           9       0.00      0.00      0.00        44\n",
            "\n",
            "    accuracy                           0.12       400\n",
            "   macro avg       0.01      0.10      0.02       400\n",
            "weighted avg       0.02      0.12      0.03       400\n",
            "\n"
          ],
          "name": "stdout"
        },
        {
          "output_type": "stream",
          "text": [
            "/usr/local/lib/python3.6/dist-packages/sklearn/metrics/_classification.py:1272: UndefinedMetricWarning: Precision and F-score are ill-defined and being set to 0.0 in labels with no predicted samples. Use `zero_division` parameter to control this behavior.\n",
            "  _warn_prf(average, modifier, msg_start, len(result))\n"
          ],
          "name": "stderr"
        }
      ]
    },
    {
      "cell_type": "markdown",
      "metadata": {
        "id": "XS4Z3LwUsAMa",
        "colab_type": "text"
      },
      "source": [
        "\n",
        "*   **PRECISION** = TP / (TP+FP)\n",
        "*   **RECALL** = TP + (TP+FN)\n",
        "*   **F1 score** = 2*PRECISION*RECALL/(PRECISION+RECALL)\n",
        "*   **ACCURACY** = SUM_OF_DIAGNONAL ELEMENTS/SUM OF ALL ELEMENTS\n",
        "*   **Macro_AVG OF PRECISION** = SUM OF PRECISIONS/NUMBER OF CLASSES\n",
        "*   **Weighted AVG OF PRECISION** = SUM OVER CLASSES PRECISION(CLASS)*WEIGHT*   (CLASS),\n",
        "**WEIGHT** = CLASS SUPPORT/ALL ELEMENTS\n",
        "*   **MICRO AVG OF PRECISION** = SUM (TP(CLASS))/SUM(TP(CLASS)+FP(CLASS))\n",
        "   \n",
        "\n"
      ]
    },
    {
      "cell_type": "markdown",
      "metadata": {
        "id": "G8yO2_ALDVYr",
        "colab_type": "text"
      },
      "source": [
        "Klasyfikator RFC na danych bez użycia funkcji deskew, deskryptor cechy HOG"
      ]
    },
    {
      "cell_type": "code",
      "metadata": {
        "id": "CB0MMMKGr82u",
        "colab_type": "code",
        "outputId": "72417962-b71c-40f4-e712-cf841303cfb5",
        "colab": {
          "base_uri": "https://localhost:8080/",
          "height": 510
        }
      },
      "source": [
        "import numpy\n",
        "from sklearn.model_selection import cross_val_score\n",
        "#kfold cross validation parameters selection\n",
        "results=[]\n",
        "for maxd in numpy.arange(10,30,10):\n",
        "  for nestim in numpy.arange(70,90,10):\n",
        "    for maxf in numpy.arange(10,20,5):#obszar poszukiwan parametrow ograniczony aby przyspieszyc wykonywanie sie skryptu, uwzgledniajac wartosci znalezione przy przesuzkiwaniu wiekszej kombinacji \n",
        "      results.append((cross_val_score(estimator = RandomForestClassifier(max_depth=maxd, n_estimators=nestim, max_features=maxf).fit(imData[0:400,:],im_list_labels[0:400]), X = imData[0:400,:], y = im_list_labels[0:400], cv = 5).mean(),maxd,nestim,maxf))\n",
        "\n",
        "\n",
        "bestParams=max(results)\n",
        "print(\"Parametry modelu \",bestParams[1:])\n",
        "\n",
        "rfc =  RandomForestClassifier(max_depth=bestParams[1], n_estimators=bestParams[2], max_features=bestParams[3],class_weight='balanced')\n",
        "rfc = rfc.fit(imData[400:1000,:],im_list_labels[400:1000])\n",
        "\n",
        "pred_labels = rfc.predict(imData[1000:1400,:])\n",
        "\n",
        "mask = pred_labels==im_list_labels[1000:1400]\n",
        "correct = np.count_nonzero(mask)\n",
        "print(\"Procent skutecznych klasyfikacji: \", correct*100.0/pred_labels.size)\n",
        "\n",
        "cm = confusion_matrix(im_list_labels[1000:1400], pred_labels)\n",
        "print(cm)\n",
        "print(classification_report(im_list_labels[1000:1400], pred_labels))\n",
        "\n"
      ],
      "execution_count": 46,
      "outputs": [
        {
          "output_type": "stream",
          "text": [
            "Parametry modelu  (10, 70, 15)\n",
            "Procent skutecznych klasyfikacji:  88.75\n",
            "[[30  0  0  0  0  0  1  0  1  3]\n",
            " [ 0 45  0  0  0  0  0  0  0  0]\n",
            " [ 0  0 33  0  1  0  0  4  0  0]\n",
            " [ 0  1  3 29  1  0  0  2  0  2]\n",
            " [ 1  0  0  0 40  0  1  0  0  1]\n",
            " [ 0  0  0  2  0 23  0  1  3  3]\n",
            " [ 0  1  0  0  1  0 35  0  0  0]\n",
            " [ 1  0  0  2  0  1  0 46  0  0]\n",
            " [ 0  0  1  0  0  1  0  0 35  1]\n",
            " [ 0  0  0  1  0  2  0  0  2 39]]\n",
            "              precision    recall  f1-score   support\n",
            "\n",
            "           0       0.94      0.86      0.90        35\n",
            "           1       0.96      1.00      0.98        45\n",
            "           2       0.89      0.87      0.88        38\n",
            "           3       0.85      0.76      0.81        38\n",
            "           4       0.93      0.93      0.93        43\n",
            "           5       0.85      0.72      0.78        32\n",
            "           6       0.95      0.95      0.95        37\n",
            "           7       0.87      0.92      0.89        50\n",
            "           8       0.85      0.92      0.89        38\n",
            "           9       0.80      0.89      0.84        44\n",
            "\n",
            "    accuracy                           0.89       400\n",
            "   macro avg       0.89      0.88      0.88       400\n",
            "weighted avg       0.89      0.89      0.89       400\n",
            "\n"
          ],
          "name": "stdout"
        }
      ]
    },
    {
      "cell_type": "markdown",
      "metadata": {
        "id": "HQ2LR1fBDgbz",
        "colab_type": "text"
      },
      "source": [
        "Klasyfikator RFC na danych z użyciem funkcji deskew, deskryptor HOG"
      ]
    },
    {
      "cell_type": "code",
      "metadata": {
        "id": "pKUB1ECTK4Wh",
        "colab_type": "code",
        "outputId": "5c9bbc29-7997-4f06-bda0-11b49385c81f",
        "colab": {
          "base_uri": "https://localhost:8080/",
          "height": 510
        }
      },
      "source": [
        "#rfc on deskewed dataset\n",
        "import numpy\n",
        "from sklearn.model_selection import cross_val_score\n",
        "#kfold cross validation parameters selection\n",
        "results=[]\n",
        "for maxd in numpy.arange(40,50,5):\n",
        "  for nestim in numpy.arange(70,90,10):\n",
        "    for maxf in numpy.arange(5,9,2):#obszar poszukiwan parametrow ograniczony aby przyspieszyc wykonywanie sie skryptu, uwzgledniajac wartosci znalezione przy przesuzkiwaniu wiekszej kombinacji \n",
        "      results.append((cross_val_score(estimator = RandomForestClassifier(max_depth=maxd, n_estimators=nestim, max_features=maxf).fit(imData2[0:400,:],im_list_labels[0:400]), X = imData2[0:400,:], y = im_list_labels[0:400], cv = 5).mean(),maxd,nestim,maxf))\n",
        "\n",
        "\n",
        "bestParams=max(results)\n",
        "print(\"Parametry modelu \",bestParams[1:])\n",
        "\n",
        "rfc =  RandomForestClassifier(max_depth=bestParams[1], n_estimators=bestParams[2], max_features=bestParams[3],class_weight='balanced')\n",
        "rfc = rfc.fit(imData2[400:1000,:],im_list_labels[400:1000])\n",
        "\n",
        "pred_labels = rfc.predict(imData2[1000:1400,:])\n",
        "\n",
        "\n",
        "mask = pred_labels==im_list_labels[1000:1400]\n",
        "correct = np.count_nonzero(mask)\n",
        "print(\"Procent skutecznych klasyfikacji: \", correct*100.0/pred_labels.size)\n",
        "\n",
        "cm = confusion_matrix(im_list_labels[1000:1400], pred_labels)\n",
        "print(cm)\n",
        "print(classification_report(im_list_labels[1000:1400], pred_labels))\n",
        "\n"
      ],
      "execution_count": 47,
      "outputs": [
        {
          "output_type": "stream",
          "text": [
            "Parametry modelu  (40, 70, 7)\n",
            "Procent skutecznych klasyfikacji:  89.25\n",
            "[[32  0  0  0  0  0  0  0  0  3]\n",
            " [ 0 45  0  0  0  0  0  0  0  0]\n",
            " [ 0  0 29  4  1  0  0  4  0  0]\n",
            " [ 0  0  3 29  0  1  0  3  0  2]\n",
            " [ 1  0  0  0 39  0  2  0  0  1]\n",
            " [ 0  0  0  0  0 28  0  1  2  1]\n",
            " [ 0  1  0  0  1  0 35  0  0  0]\n",
            " [ 1  0  1  2  0  1  0 45  0  0]\n",
            " [ 0  0  0  0  0  2  0  0 35  1]\n",
            " [ 0  0  0  0  0  2  0  0  2 40]]\n",
            "              precision    recall  f1-score   support\n",
            "\n",
            "           0       0.94      0.91      0.93        35\n",
            "           1       0.98      1.00      0.99        45\n",
            "           2       0.88      0.76      0.82        38\n",
            "           3       0.83      0.76      0.79        38\n",
            "           4       0.95      0.91      0.93        43\n",
            "           5       0.82      0.88      0.85        32\n",
            "           6       0.95      0.95      0.95        37\n",
            "           7       0.85      0.90      0.87        50\n",
            "           8       0.90      0.92      0.91        38\n",
            "           9       0.83      0.91      0.87        44\n",
            "\n",
            "    accuracy                           0.89       400\n",
            "   macro avg       0.89      0.89      0.89       400\n",
            "weighted avg       0.89      0.89      0.89       400\n",
            "\n"
          ],
          "name": "stdout"
        }
      ]
    },
    {
      "cell_type": "markdown",
      "metadata": {
        "id": "Uht9KxEODluw",
        "colab_type": "text"
      },
      "source": [
        "Klasyfikator RFC na danych z użyciem funkcji deskew, deskryptor cechy Haara"
      ]
    },
    {
      "cell_type": "code",
      "metadata": {
        "id": "ILDc99Y94Th7",
        "colab_type": "code",
        "outputId": "16b04397-f6f2-4a61-c5f4-053fcf0ba34f",
        "colab": {
          "base_uri": "https://localhost:8080/",
          "height": 510
        }
      },
      "source": [
        "#rfc on deskewed dataset haar\n",
        "import numpy\n",
        "from sklearn.model_selection import cross_val_score\n",
        "#kfold cross validation parameters selection\n",
        "results=[]\n",
        "for maxd in numpy.arange(40,50,5):\n",
        "  for nestim in numpy.arange(80,100,10):\n",
        "    for maxf in numpy.arange(1,5,2):#obszar poszukiwan parametrow ograniczony aby przyspieszyc wykonywanie sie skryptu, uwzgledniajac wartosci znalezione przy przesuzkiwaniu wiekszej kombinacji \n",
        "      results.append((cross_val_score(estimator = RandomForestClassifier(max_depth=maxd, n_estimators=nestim, max_features=maxf).fit(imData3[0:400,:],im_list_labels[0:400]), X = imData3[0:400,:], y = im_list_labels[0:400], cv = 5).mean(),maxd,nestim,maxf))\n",
        "\n",
        "\n",
        "bestParams=max(results)\n",
        "print(\"Parametry modelu \",bestParams[1:])\n",
        "\n",
        "rfc =  RandomForestClassifier(max_depth=bestParams[1], n_estimators=bestParams[2], max_features=bestParams[3],class_weight='balanced')\n",
        "rfc = rfc.fit(imData3[400:1000,:],im_list_labels[400:1000])\n",
        "\n",
        "pred_labels = rfc.predict(imData3[1000:1400,:])\n",
        "\n",
        "\n",
        "mask = pred_labels==im_list_labels[1000:1400]\n",
        "correct = np.count_nonzero(mask)\n",
        "print(\"Procent skutecznych klasyfikacji: \", correct*100.0/pred_labels.size)\n",
        "\n",
        "cm = confusion_matrix(im_list_labels[1000:1400], pred_labels)\n",
        "print(cm)\n",
        "print(classification_report(im_list_labels[1000:1400], pred_labels))"
      ],
      "execution_count": 49,
      "outputs": [
        {
          "output_type": "stream",
          "text": [
            "Parametry modelu  (40, 80, 3)\n",
            "Procent skutecznych klasyfikacji:  84.0\n",
            "[[32  0  1  0  1  0  0  0  1  0]\n",
            " [ 0 44  0  0  0  0  0  0  1  0]\n",
            " [ 1  0 27  3  0  1  0  3  3  0]\n",
            " [ 0  0  3 26  0  2  0  1  3  3]\n",
            " [ 0  2  1  0 36  0  2  0  1  1]\n",
            " [ 2  0  1  1  0 25  0  1  1  1]\n",
            " [ 0  1  0  0  1  0 35  0  0  0]\n",
            " [ 1  0  1  0  3  1  0 44  0  0]\n",
            " [ 0  0  2  1  0  2  1  0 31  1]\n",
            " [ 0  0  0  1  4  1  0  0  2 36]]\n",
            "              precision    recall  f1-score   support\n",
            "\n",
            "           0       0.89      0.91      0.90        35\n",
            "           1       0.94      0.98      0.96        45\n",
            "           2       0.75      0.71      0.73        38\n",
            "           3       0.81      0.68      0.74        38\n",
            "           4       0.80      0.84      0.82        43\n",
            "           5       0.78      0.78      0.78        32\n",
            "           6       0.92      0.95      0.93        37\n",
            "           7       0.90      0.88      0.89        50\n",
            "           8       0.72      0.82      0.77        38\n",
            "           9       0.86      0.82      0.84        44\n",
            "\n",
            "    accuracy                           0.84       400\n",
            "   macro avg       0.84      0.84      0.84       400\n",
            "weighted avg       0.84      0.84      0.84       400\n",
            "\n"
          ],
          "name": "stdout"
        }
      ]
    },
    {
      "cell_type": "markdown",
      "metadata": {
        "id": "GV1Gs9OxlUqT",
        "colab_type": "text"
      },
      "source": [
        "2.Klasyfikatory svc i rfc po użyciu funkcji deskew poprawiają swoją skuteczność kolejno o 2.5% oraz 0.5%.\n"
      ]
    },
    {
      "cell_type": "markdown",
      "metadata": {
        "id": "vzOLNS0CmHsN",
        "colab_type": "text"
      },
      "source": [
        "3.Klasyfikator svc z surowymi danymi na wejściu radzi sobie bardzo kiepsko gdyż osiąga jedynie 55.5% skuteczności. RFC natomias osiąga wynik akceptowalny jednak nadal gorszy niż przy podaniu danych przetworzonych-84.5% skuteczności."
      ]
    },
    {
      "cell_type": "markdown",
      "metadata": {
        "id": "DNVoaJO9mmRj",
        "colab_type": "text"
      },
      "source": [
        "4.Użycie deksryptora cech Haara w połączeniu z klasyfikatorem SVC przynosi tragiczne efekty w postaci 12.5% skuteczności. Przy klasyfikatorze RFC 84% skuteczności, co jest gorszym  wynikiem niż przy zastosowaniu deskyptora HOG, jednak nie jest to tak ogromny przeskok jak przy svc."
      ]
    }
  ]
}