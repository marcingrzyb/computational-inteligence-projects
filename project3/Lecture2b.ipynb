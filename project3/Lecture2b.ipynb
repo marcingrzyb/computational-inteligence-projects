{
  "nbformat": 4,
  "nbformat_minor": 0,
  "metadata": {
    "kernelspec": {
      "display_name": "Python 3",
      "language": "python",
      "name": "python3"
    },
    "language_info": {
      "codemirror_mode": {
        "name": "ipython",
        "version": 3
      },
      "file_extension": ".py",
      "mimetype": "text/x-python",
      "name": "python",
      "nbconvert_exporter": "python",
      "pygments_lexer": "ipython3",
      "version": "3.6.10"
    },
    "colab": {
      "name": "Lecture2b.ipynb",
      "provenance": []
    }
  },
  "cells": [
    {
      "cell_type": "markdown",
      "metadata": {
        "id": "aqiMwkmdLtKL",
        "colab_type": "text"
      },
      "source": [
        "Marcin Grzyb marcingrzyb@student.agh.edu.pl \n",
        "Paweł Gałka pawelgalka@student.agh.edu.pl"
      ]
    },
    {
      "cell_type": "code",
      "metadata": {
        "id": "uKIdTq91LRCW",
        "colab_type": "code",
        "outputId": "8a784d24-0b71-4078-d9fa-ca7adcefab7f",
        "colab": {
          "base_uri": "https://localhost:8080/",
          "height": 34
        }
      },
      "source": [
        "import tensorflow.keras as keras\n",
        "keras.__version__"
      ],
      "execution_count": 0,
      "outputs": [
        {
          "output_type": "execute_result",
          "data": {
            "text/plain": [
              "'2.2.4-tf'"
            ]
          },
          "metadata": {
            "tags": []
          },
          "execution_count": 94
        }
      ]
    },
    {
      "cell_type": "markdown",
      "metadata": {
        "id": "G2IiE_LnLRCZ",
        "colab_type": "text"
      },
      "source": [
        "# Classifying newswires: a multi-class classification example\n",
        "\n",
        "This notebook contains the code samples found in Chapter 3, Section 5 of [Deep Learning with Python](https://www.manning.com/books/deep-learning-with-python?a_aid=keras&a_bid=76564dff). Note that the original text features far more content, in particular further explanations and figures: in this notebook, you will only find source code and related comments.\n",
        "\n",
        "----\n",
        "\n",
        "In the previous section we saw how to classify vector inputs into two mutually exclusive classes using a densely-connected neural network. \n",
        "But what happens when you have more than two classes? \n",
        "\n",
        "In this section, we will build a network to classify Reuters newswires into 46 different mutually-exclusive topics. Since we have many \n",
        "classes, this problem is an instance of \"multi-class classification\", and since each data point should be classified into only one \n",
        "category, the problem is more specifically an instance of \"single-label, multi-class classification\". If each data point could have \n",
        "belonged to multiple categories (in our case, topics) then we would be facing a \"multi-label, multi-class classification\" problem."
      ]
    },
    {
      "cell_type": "markdown",
      "metadata": {
        "id": "jIqzSWfILRCa",
        "colab_type": "text"
      },
      "source": [
        "## The Reuters dataset\n",
        "\n",
        "\n",
        "We will be working with the _Reuters dataset_, a set of short newswires and their topics, published by Reuters in 1986. It's a very simple, \n",
        "widely used toy dataset for text classification. There are 46 different topics; some topics are more represented than others, but each \n",
        "topic has at least 10 examples in the training set.\n",
        "\n",
        "Like IMDB and MNIST, the Reuters dataset comes packaged as part of Keras. Let's take a look right away:"
      ]
    },
    {
      "cell_type": "code",
      "metadata": {
        "id": "sQZxSiuMLRCb",
        "colab_type": "code",
        "colab": {}
      },
      "source": [
        "from tensorflow.keras.datasets import reuters\n",
        "\n",
        "(train_data, train_labels), (test_data, test_labels) = reuters.load_data(num_words=10000)"
      ],
      "execution_count": 0,
      "outputs": []
    },
    {
      "cell_type": "markdown",
      "metadata": {
        "id": "lop-2mH8LRCd",
        "colab_type": "text"
      },
      "source": [
        "\n",
        "Like with the IMDB dataset, the argument `num_words=10000` restricts the data to the 10,000 most frequently occurring words found in the \n",
        "data.\n",
        "\n",
        "We have 8,982 training examples and 2,246 test examples:"
      ]
    },
    {
      "cell_type": "code",
      "metadata": {
        "id": "IppYZhmGLRCe",
        "colab_type": "code",
        "outputId": "6a32e8ab-8703-491d-9e1f-c10a5657be8b",
        "colab": {
          "base_uri": "https://localhost:8080/",
          "height": 51
        }
      },
      "source": [
        "print(train_data.shape)\n",
        "len(train_data)"
      ],
      "execution_count": 0,
      "outputs": [
        {
          "output_type": "stream",
          "text": [
            "(8982,)\n"
          ],
          "name": "stdout"
        },
        {
          "output_type": "execute_result",
          "data": {
            "text/plain": [
              "8982"
            ]
          },
          "metadata": {
            "tags": []
          },
          "execution_count": 96
        }
      ]
    },
    {
      "cell_type": "code",
      "metadata": {
        "id": "pWK7FGHdLRCg",
        "colab_type": "code",
        "outputId": "3ad532e8-56e4-432d-ffea-8707d3f0107e",
        "colab": {
          "base_uri": "https://localhost:8080/",
          "height": 34
        }
      },
      "source": [
        "len(test_data)"
      ],
      "execution_count": 0,
      "outputs": [
        {
          "output_type": "execute_result",
          "data": {
            "text/plain": [
              "2246"
            ]
          },
          "metadata": {
            "tags": []
          },
          "execution_count": 97
        }
      ]
    },
    {
      "cell_type": "markdown",
      "metadata": {
        "id": "j6brmqwsLRCj",
        "colab_type": "text"
      },
      "source": [
        "As with the IMDB reviews, each example is a list of integers (word indices):"
      ]
    },
    {
      "cell_type": "code",
      "metadata": {
        "id": "cikz8pfrLRCk",
        "colab_type": "code",
        "outputId": "356184c7-1a8c-495b-d8e8-55102b3f83be",
        "colab": {
          "base_uri": "https://localhost:8080/",
          "height": 544
        }
      },
      "source": [
        "train_data[10]"
      ],
      "execution_count": 0,
      "outputs": [
        {
          "output_type": "execute_result",
          "data": {
            "text/plain": [
              "[1,\n",
              " 245,\n",
              " 273,\n",
              " 207,\n",
              " 156,\n",
              " 53,\n",
              " 74,\n",
              " 160,\n",
              " 26,\n",
              " 14,\n",
              " 46,\n",
              " 296,\n",
              " 26,\n",
              " 39,\n",
              " 74,\n",
              " 2979,\n",
              " 3554,\n",
              " 14,\n",
              " 46,\n",
              " 4689,\n",
              " 4329,\n",
              " 86,\n",
              " 61,\n",
              " 3499,\n",
              " 4795,\n",
              " 14,\n",
              " 61,\n",
              " 451,\n",
              " 4329,\n",
              " 17,\n",
              " 12]"
            ]
          },
          "metadata": {
            "tags": []
          },
          "execution_count": 98
        }
      ]
    },
    {
      "cell_type": "markdown",
      "metadata": {
        "id": "0gTTMuvwLRCn",
        "colab_type": "text"
      },
      "source": [
        "Here's how you can decode it back to words, in case you are curious:"
      ]
    },
    {
      "cell_type": "code",
      "metadata": {
        "id": "AQCWvUshLRCo",
        "colab_type": "code",
        "colab": {}
      },
      "source": [
        "word_index = reuters.get_word_index()\n",
        "reverse_word_index = dict([(value, key) for (key, value) in word_index.items()])\n",
        "# Note that our indices were offset by 3\n",
        "# because 0, 1 and 2 are reserved indices for \"padding\", \"start of sequence\", and \"unknown\".\n",
        "decoded_newswire = ' '.join([reverse_word_index.get(i - 3, '?') for i in train_data[0]])"
      ],
      "execution_count": 0,
      "outputs": []
    },
    {
      "cell_type": "code",
      "metadata": {
        "id": "Oz1WfsfwLRCr",
        "colab_type": "code",
        "outputId": "d69f3397-9cf0-4d9f-feb4-4bb9fd73d108",
        "colab": {
          "base_uri": "https://localhost:8080/",
          "height": 54
        }
      },
      "source": [
        "decoded_newswire"
      ],
      "execution_count": 0,
      "outputs": [
        {
          "output_type": "execute_result",
          "data": {
            "text/plain": [
              "'? ? ? said as a result of its december acquisition of space co it expects earnings per share in 1987 of 1 15 to 1 30 dlrs per share up from 70 cts in 1986 the company said pretax net should rise to nine to 10 mln dlrs from six mln dlrs in 1986 and rental operation revenues to 19 to 22 mln dlrs from 12 5 mln dlrs it said cash flow per share this year should be 2 50 to three dlrs reuter 3'"
            ]
          },
          "metadata": {
            "tags": []
          },
          "execution_count": 100
        }
      ]
    },
    {
      "cell_type": "markdown",
      "metadata": {
        "id": "wvpffYEhLRCu",
        "colab_type": "text"
      },
      "source": [
        "The label associated with an example is an integer between 0 and 45: a topic index."
      ]
    },
    {
      "cell_type": "code",
      "metadata": {
        "id": "Gty-AJ9ULRCu",
        "colab_type": "code",
        "outputId": "ad0aeda3-aa58-4230-ede4-c6bfcc6a15fb",
        "colab": {
          "base_uri": "https://localhost:8080/",
          "height": 34
        }
      },
      "source": [
        "train_labels[10]"
      ],
      "execution_count": 0,
      "outputs": [
        {
          "output_type": "execute_result",
          "data": {
            "text/plain": [
              "3"
            ]
          },
          "metadata": {
            "tags": []
          },
          "execution_count": 101
        }
      ]
    },
    {
      "cell_type": "markdown",
      "metadata": {
        "id": "Gu_kYu9CLRCx",
        "colab_type": "text"
      },
      "source": [
        "## Preparing the data\n",
        "\n",
        "We can vectorize the data with the exact same code as in our previous example:"
      ]
    },
    {
      "cell_type": "code",
      "metadata": {
        "id": "6M9-TaXPLRCx",
        "colab_type": "code",
        "outputId": "777c9b36-3497-429e-b8b1-1fc48a7f6e3f",
        "colab": {
          "base_uri": "https://localhost:8080/",
          "height": 34
        }
      },
      "source": [
        "import numpy as np\n",
        "\n",
        "def vectorize_sequences(sequences, dimension=10000):\n",
        "    results = np.zeros((len(sequences), dimension))\n",
        "    for i, sequence in enumerate(sequences):\n",
        "        results[i, sequence] = 1.\n",
        "    return results\n",
        "\n",
        "# Our vectorized training data\n",
        "x_train = vectorize_sequences(train_data)\n",
        "print(x_train.shape)\n",
        "# Our vectorized test data\n",
        "x_test = vectorize_sequences(test_data)"
      ],
      "execution_count": 0,
      "outputs": [
        {
          "output_type": "stream",
          "text": [
            "(8982, 10000)\n"
          ],
          "name": "stdout"
        }
      ]
    },
    {
      "cell_type": "markdown",
      "metadata": {
        "id": "l_R3qvszLRC0",
        "colab_type": "text"
      },
      "source": [
        "\n",
        "To vectorize the labels, there are two possibilities: we could just cast the label list as an integer tensor, or we could use a \"one-hot\" \n",
        "encoding. One-hot encoding is a widely used format for categorical data, also called \"categorical encoding\". \n",
        "For a more detailed explanation of one-hot encoding, you can refer to Chapter 6, Section 1. \n",
        "In our case, one-hot encoding of our labels consists in embedding each label as an all-zero vector with a 1 in the place of the label index, e.g.:"
      ]
    },
    {
      "cell_type": "code",
      "metadata": {
        "id": "kPdzYTP8LRC1",
        "colab_type": "code",
        "colab": {}
      },
      "source": [
        "def to_one_hot(labels, dimension=46):\n",
        "    results = np.zeros((len(labels), dimension))\n",
        "    for i, label in enumerate(labels):\n",
        "        results[i, label] = 1.\n",
        "    return results\n",
        "\n",
        "# Our vectorized training labels\n",
        "one_hot_train_labels = to_one_hot(train_labels)\n",
        "# Our vectorized test labels\n",
        "one_hot_test_labels = to_one_hot(test_labels)"
      ],
      "execution_count": 0,
      "outputs": []
    },
    {
      "cell_type": "markdown",
      "metadata": {
        "id": "jx7ysLwLLRC4",
        "colab_type": "text"
      },
      "source": [
        "Note that there is a built-in way to do this in Keras, which you have already seen in action in our MNIST example:"
      ]
    },
    {
      "cell_type": "code",
      "metadata": {
        "id": "KyqSOPDbLRC5",
        "colab_type": "code",
        "colab": {}
      },
      "source": [
        "from keras.utils.np_utils import to_categorical\n",
        "\n",
        "one_hot_train_labels = to_categorical(train_labels)\n",
        "one_hot_test_labels = to_categorical(test_labels)"
      ],
      "execution_count": 0,
      "outputs": []
    },
    {
      "cell_type": "markdown",
      "metadata": {
        "id": "B7TDu3C_LRC7",
        "colab_type": "text"
      },
      "source": [
        "## Building our network\n",
        "\n",
        "\n",
        "This topic classification problem looks very similar to our previous movie review classification problem: in both cases, we are trying to \n",
        "classify short snippets of text. There is however a new constraint here: the number of output classes has gone from 2 to 46, i.e. the \n",
        "dimensionality of the output space is much larger. \n",
        "\n",
        "In a stack of `Dense` layers like what we were using, each layer can only access information present in the output of the previous layer. \n",
        "If one layer drops some information relevant to the classification problem, this information can never be recovered by later layers: each \n",
        "layer can potentially become an \"information bottleneck\". In our previous example, we were using 16-dimensional intermediate layers, but a \n",
        "16-dimensional space may be too limited to learn to separate 46 different classes: such small layers may act as information bottlenecks, \n",
        "permanently dropping relevant information.\n",
        "\n",
        "For this reason we will use larger layers. Let's go with 64 units:"
      ]
    },
    {
      "cell_type": "code",
      "metadata": {
        "id": "b0v-nekXLRC8",
        "colab_type": "code",
        "colab": {}
      },
      "source": [
        "from tensorflow.keras import models\n",
        "from tensorflow.keras import layers\n",
        "\n",
        "model = models.Sequential()\n",
        "model.add(layers.Dense(64, activation='relu', input_shape=(10000,)))\n",
        "model.add(layers.Dense(64, activation='relu'))\n",
        "model.add(layers.Dense(46, activation='softmax'))"
      ],
      "execution_count": 0,
      "outputs": []
    },
    {
      "cell_type": "markdown",
      "metadata": {
        "id": "GvHfa_4nLRC_",
        "colab_type": "text"
      },
      "source": [
        "\n",
        "There are two other things you should note about this architecture:\n",
        "\n",
        "* We are ending the network with a `Dense` layer of size 46. This means that for each input sample, our network will output a \n",
        "46-dimensional vector. Each entry in this vector (each dimension) will encode a different output class.\n",
        "* The last layer uses a `softmax` activation. You have already seen this pattern in the MNIST example. It means that the network will \n",
        "output a _probability distribution_ over the 46 different output classes, i.e. for every input sample, the network will produce a \n",
        "46-dimensional output vector where `output[i]` is the probability that the sample belongs to class `i`. The 46 scores will sum to 1.\n",
        "\n",
        "The best loss function to use in this case is `categorical_crossentropy`. It measures the distance between two probability distributions: \n",
        "in our case, between the probability distribution output by our network, and the true distribution of the labels. By minimizing the \n",
        "distance between these two distributions, we train our network to output something as close as possible to the true labels."
      ]
    },
    {
      "cell_type": "code",
      "metadata": {
        "id": "5Cph4ECyLRDA",
        "colab_type": "code",
        "colab": {}
      },
      "source": [
        "model.compile(optimizer='rmsprop',\n",
        "              loss='categorical_crossentropy',\n",
        "              metrics=['accuracy'])"
      ],
      "execution_count": 0,
      "outputs": []
    },
    {
      "cell_type": "markdown",
      "metadata": {
        "id": "Dg0y4LBRLRDC",
        "colab_type": "text"
      },
      "source": [
        "## Validating our approach\n",
        "\n",
        "Let's set apart 1,000 samples in our training data to use as a validation set:"
      ]
    },
    {
      "cell_type": "code",
      "metadata": {
        "id": "2hudGBJILRDC",
        "colab_type": "code",
        "colab": {}
      },
      "source": [
        "x_val = x_train[:1000]\n",
        "partial_x_train = x_train[1000:]\n",
        "\n",
        "y_val = one_hot_train_labels[:1000]\n",
        "partial_y_train = one_hot_train_labels[1000:]"
      ],
      "execution_count": 0,
      "outputs": []
    },
    {
      "cell_type": "markdown",
      "metadata": {
        "id": "eCVgtJ4dLRDF",
        "colab_type": "text"
      },
      "source": [
        "Now let's train our network for 20 epochs:"
      ]
    },
    {
      "cell_type": "code",
      "metadata": {
        "id": "OCD-_3nULRDG",
        "colab_type": "code",
        "outputId": "72cfa462-c2f3-4b67-8340-77f4eb5ddac1",
        "colab": {
          "base_uri": "https://localhost:8080/",
          "height": 697
        }
      },
      "source": [
        "history = model.fit(partial_x_train,\n",
        "                    partial_y_train,\n",
        "                    epochs=20,\n",
        "                    batch_size=512,\n",
        "                    validation_data=(x_val, y_val))"
      ],
      "execution_count": 0,
      "outputs": [
        {
          "output_type": "stream",
          "text": [
            "Epoch 1/20\n",
            "16/16 [==============================] - 1s 51ms/step - loss: 2.6491 - accuracy: 0.5099 - val_loss: 1.7862 - val_accuracy: 0.6530\n",
            "Epoch 2/20\n",
            "16/16 [==============================] - 1s 44ms/step - loss: 1.4418 - accuracy: 0.7081 - val_loss: 1.3181 - val_accuracy: 0.7280\n",
            "Epoch 3/20\n",
            "16/16 [==============================] - 1s 46ms/step - loss: 1.0469 - accuracy: 0.7831 - val_loss: 1.1346 - val_accuracy: 0.7520\n",
            "Epoch 4/20\n",
            "16/16 [==============================] - 1s 44ms/step - loss: 0.8260 - accuracy: 0.8270 - val_loss: 1.0254 - val_accuracy: 0.7810\n",
            "Epoch 5/20\n",
            "16/16 [==============================] - 1s 45ms/step - loss: 0.6627 - accuracy: 0.8629 - val_loss: 0.9698 - val_accuracy: 0.7930\n",
            "Epoch 6/20\n",
            "16/16 [==============================] - 1s 62ms/step - loss: 0.5315 - accuracy: 0.8931 - val_loss: 0.9298 - val_accuracy: 0.7970\n",
            "Epoch 7/20\n",
            "16/16 [==============================] - 1s 43ms/step - loss: 0.4293 - accuracy: 0.9142 - val_loss: 0.9058 - val_accuracy: 0.8200\n",
            "Epoch 8/20\n",
            "16/16 [==============================] - 1s 44ms/step - loss: 0.3499 - accuracy: 0.9285 - val_loss: 0.8887 - val_accuracy: 0.8100\n",
            "Epoch 9/20\n",
            "16/16 [==============================] - 1s 46ms/step - loss: 0.2967 - accuracy: 0.9376 - val_loss: 0.8862 - val_accuracy: 0.8110\n",
            "Epoch 10/20\n",
            "16/16 [==============================] - 1s 45ms/step - loss: 0.2449 - accuracy: 0.9455 - val_loss: 0.9130 - val_accuracy: 0.8140\n",
            "Epoch 11/20\n",
            "16/16 [==============================] - 1s 46ms/step - loss: 0.2124 - accuracy: 0.9480 - val_loss: 0.9563 - val_accuracy: 0.8030\n",
            "Epoch 12/20\n",
            "16/16 [==============================] - 1s 46ms/step - loss: 0.1908 - accuracy: 0.9523 - val_loss: 0.9069 - val_accuracy: 0.8240\n",
            "Epoch 13/20\n",
            "16/16 [==============================] - 1s 46ms/step - loss: 0.1657 - accuracy: 0.9536 - val_loss: 0.9388 - val_accuracy: 0.8190\n",
            "Epoch 14/20\n",
            "16/16 [==============================] - 1s 45ms/step - loss: 0.1523 - accuracy: 0.9555 - val_loss: 0.9585 - val_accuracy: 0.8140\n",
            "Epoch 15/20\n",
            "16/16 [==============================] - 1s 45ms/step - loss: 0.1420 - accuracy: 0.9563 - val_loss: 1.0325 - val_accuracy: 0.7970\n",
            "Epoch 16/20\n",
            "16/16 [==============================] - 1s 47ms/step - loss: 0.1345 - accuracy: 0.9560 - val_loss: 0.9797 - val_accuracy: 0.8170\n",
            "Epoch 17/20\n",
            "16/16 [==============================] - 1s 46ms/step - loss: 0.1309 - accuracy: 0.9582 - val_loss: 1.0223 - val_accuracy: 0.8050\n",
            "Epoch 18/20\n",
            "16/16 [==============================] - 1s 45ms/step - loss: 0.1188 - accuracy: 0.9560 - val_loss: 1.0310 - val_accuracy: 0.8090\n",
            "Epoch 19/20\n",
            "16/16 [==============================] - 1s 46ms/step - loss: 0.1166 - accuracy: 0.9577 - val_loss: 1.0911 - val_accuracy: 0.8000\n",
            "Epoch 20/20\n",
            "16/16 [==============================] - 1s 44ms/step - loss: 0.1171 - accuracy: 0.9569 - val_loss: 1.0774 - val_accuracy: 0.8060\n"
          ],
          "name": "stdout"
        }
      ]
    },
    {
      "cell_type": "markdown",
      "metadata": {
        "id": "QKrrsHsSLRDI",
        "colab_type": "text"
      },
      "source": [
        "Let's display its loss and accuracy curves:"
      ]
    },
    {
      "cell_type": "code",
      "metadata": {
        "id": "LAkJHGlvLRDJ",
        "colab_type": "code",
        "outputId": "2953e9b3-7e3f-4c39-85a9-b10942e00bdd",
        "colab": {
          "base_uri": "https://localhost:8080/",
          "height": 295
        }
      },
      "source": [
        "import matplotlib.pyplot as plt\n",
        "\n",
        "loss = history.history['loss']\n",
        "val_loss = history.history['val_loss']\n",
        "\n",
        "epochs = range(1, len(loss) + 1)\n",
        "\n",
        "plt.plot(epochs, loss, 'bo', label='Training loss')\n",
        "plt.plot(epochs, val_loss, 'b', label='Validation loss')\n",
        "plt.title('Training and validation loss')\n",
        "plt.xlabel('Epochs')\n",
        "plt.ylabel('Loss')\n",
        "plt.legend()\n",
        "\n",
        "plt.show()"
      ],
      "execution_count": 0,
      "outputs": [
        {
          "output_type": "display_data",
          "data": {
            "image/png": "[encoded data removed]",
            "text/plain": [
              "<Figure size 432x288 with 1 Axes>"
            ]
          },
          "metadata": {
            "tags": []
          }
        }
      ]
    },
    {
      "cell_type": "code",
      "metadata": {
        "id": "tlsme0BWLRDL",
        "colab_type": "code",
        "outputId": "4c2b02ec-15bd-4229-c2c7-cb61c0a38704",
        "colab": {
          "base_uri": "https://localhost:8080/",
          "height": 295
        }
      },
      "source": [
        "plt.clf()   # clear figure\n",
        "\n",
        "acc = history.history['accuracy']\n",
        "val_acc = history.history['val_accuracy']\n",
        "\n",
        "plt.plot(epochs, acc, 'bo', label='Training acc')\n",
        "plt.plot(epochs, val_acc, 'b', label='Validation acc')\n",
        "plt.title('Training and validation accuracy')\n",
        "plt.xlabel('Epochs')\n",
        "plt.ylabel('Loss')\n",
        "plt.legend()\n",
        "\n",
        "plt.show()"
      ],
      "execution_count": 0,
      "outputs": [
        {
          "output_type": "display_data",
          "data": {
            "image/png": "[encoded data removed]",
            "text/plain": [
              "<Figure size 432x288 with 1 Axes>"
            ]
          },
          "metadata": {
            "tags": []
          }
        }
      ]
    },
    {
      "cell_type": "markdown",
      "metadata": {
        "id": "txNAhKE8LRDN",
        "colab_type": "text"
      },
      "source": [
        "It seems that the network starts overfitting after 8 epochs. Let's train a new network from scratch for 8 epochs, then let's evaluate it on \n",
        "the test set:"
      ]
    },
    {
      "cell_type": "code",
      "metadata": {
        "id": "JpRl0MSELRDN",
        "colab_type": "code",
        "outputId": "afb4ad27-e60a-452e-baa6-d8745d342948",
        "colab": {
          "base_uri": "https://localhost:8080/",
          "height": 306
        }
      },
      "source": [
        "model = models.Sequential()\n",
        "model.add(layers.Dense(64, activation='relu', input_shape=(10000,)))\n",
        "model.add(layers.Dense(64, activation='relu'))\n",
        "model.add(layers.Dense(46, activation='softmax'))\n",
        "\n",
        "model.compile(optimizer='rmsprop',\n",
        "              loss='categorical_crossentropy',\n",
        "              metrics=['accuracy'])\n",
        "model.fit(partial_x_train,\n",
        "          partial_y_train,\n",
        "          epochs=8,\n",
        "          batch_size=512,\n",
        "          validation_data=(x_val, y_val))\n",
        "results = model.evaluate(x_test, one_hot_test_labels)"
      ],
      "execution_count": 0,
      "outputs": [
        {
          "output_type": "stream",
          "text": [
            "Epoch 1/8\n",
            "16/16 [==============================] - 1s 51ms/step - loss: 2.6434 - accuracy: 0.5183 - val_loss: 1.7035 - val_accuracy: 0.6510\n",
            "Epoch 2/8\n",
            "16/16 [==============================] - 1s 45ms/step - loss: 1.3952 - accuracy: 0.7096 - val_loss: 1.2985 - val_accuracy: 0.7180\n",
            "Epoch 3/8\n",
            "16/16 [==============================] - 1s 44ms/step - loss: 1.0449 - accuracy: 0.7742 - val_loss: 1.1252 - val_accuracy: 0.7610\n",
            "Epoch 4/8\n",
            "16/16 [==============================] - 1s 45ms/step - loss: 0.8213 - accuracy: 0.8279 - val_loss: 1.0313 - val_accuracy: 0.7790\n",
            "Epoch 5/8\n",
            "16/16 [==============================] - 1s 44ms/step - loss: 0.6544 - accuracy: 0.8629 - val_loss: 0.9640 - val_accuracy: 0.8060\n",
            "Epoch 6/8\n",
            "16/16 [==============================] - 1s 44ms/step - loss: 0.5243 - accuracy: 0.8919 - val_loss: 0.9283 - val_accuracy: 0.8050\n",
            "Epoch 7/8\n",
            "16/16 [==============================] - 1s 44ms/step - loss: 0.4190 - accuracy: 0.9147 - val_loss: 0.8870 - val_accuracy: 0.8140\n",
            "Epoch 8/8\n",
            "16/16 [==============================] - 1s 46ms/step - loss: 0.3387 - accuracy: 0.9280 - val_loss: 0.8905 - val_accuracy: 0.8180\n",
            "71/71 [==============================] - 0s 2ms/step - loss: 0.9978 - accuracy: 0.7841\n"
          ],
          "name": "stdout"
        }
      ]
    },
    {
      "cell_type": "code",
      "metadata": {
        "id": "6QZ9NZoQLRDP",
        "colab_type": "code",
        "outputId": "2e01309f-07c0-421d-ca92-771dedb98374",
        "colab": {
          "base_uri": "https://localhost:8080/",
          "height": 34
        }
      },
      "source": [
        "results"
      ],
      "execution_count": 0,
      "outputs": [
        {
          "output_type": "execute_result",
          "data": {
            "text/plain": [
              "[0.9978498816490173, 0.784060537815094]"
            ]
          },
          "metadata": {
            "tags": []
          },
          "execution_count": 112
        }
      ]
    },
    {
      "cell_type": "markdown",
      "metadata": {
        "id": "G_IioKunLRDR",
        "colab_type": "text"
      },
      "source": [
        "\n",
        "Our approach reaches an accuracy of ~78%. With a balanced binary classification problem, the accuracy reached by a purely random classifier \n",
        "would be 50%, but in our case it is closer to 19%, so our results seem pretty good, at least when compared to a random baseline:"
      ]
    },
    {
      "cell_type": "code",
      "metadata": {
        "id": "bDOPrkSpLRDS",
        "colab_type": "code",
        "outputId": "8f484d91-92f1-4c51-c6b7-a637ecd8a9c7",
        "colab": {
          "base_uri": "https://localhost:8080/",
          "height": 34
        }
      },
      "source": [
        "import copy\n",
        "\n",
        "test_labels_copy = copy.copy(test_labels)\n",
        "np.random.shuffle(test_labels_copy)\n",
        "float(np.sum(np.array(test_labels) == np.array(test_labels_copy))) / len(test_labels)"
      ],
      "execution_count": 0,
      "outputs": [
        {
          "output_type": "execute_result",
          "data": {
            "text/plain": [
              "0.18432769367764915"
            ]
          },
          "metadata": {
            "tags": []
          },
          "execution_count": 113
        }
      ]
    },
    {
      "cell_type": "markdown",
      "metadata": {
        "id": "Bo2m6UEfLRDU",
        "colab_type": "text"
      },
      "source": [
        "## Generating predictions on new data\n",
        "\n",
        "We can verify that the `predict` method of our model instance returns a probability distribution over all 46 topics. Let's generate topic \n",
        "predictions for all of the test data:"
      ]
    },
    {
      "cell_type": "code",
      "metadata": {
        "id": "9f6IRVPBLRDV",
        "colab_type": "code",
        "colab": {}
      },
      "source": [
        "predictions = model.predict(x_test)"
      ],
      "execution_count": 0,
      "outputs": []
    },
    {
      "cell_type": "markdown",
      "metadata": {
        "id": "rCAQp91ZLRDX",
        "colab_type": "text"
      },
      "source": [
        "Each entry in `predictions` is a vector of length 46:"
      ]
    },
    {
      "cell_type": "code",
      "metadata": {
        "id": "jgs9Wj5fLRDY",
        "colab_type": "code",
        "outputId": "44ce1e7b-dff7-4dea-9306-ebb2dce9d313",
        "colab": {
          "base_uri": "https://localhost:8080/",
          "height": 34
        }
      },
      "source": [
        "predictions[0].shape"
      ],
      "execution_count": 0,
      "outputs": [
        {
          "output_type": "execute_result",
          "data": {
            "text/plain": [
              "(46,)"
            ]
          },
          "metadata": {
            "tags": []
          },
          "execution_count": 115
        }
      ]
    },
    {
      "cell_type": "markdown",
      "metadata": {
        "id": "zjterCsCLRDa",
        "colab_type": "text"
      },
      "source": [
        "The coefficients in this vector sum to 1:"
      ]
    },
    {
      "cell_type": "code",
      "metadata": {
        "id": "QnBbTt5wLRDb",
        "colab_type": "code",
        "outputId": "6fc4acc5-b718-48ff-f92d-c95c11fc102c",
        "colab": {
          "base_uri": "https://localhost:8080/",
          "height": 34
        }
      },
      "source": [
        "np.sum(predictions[0])"
      ],
      "execution_count": 0,
      "outputs": [
        {
          "output_type": "execute_result",
          "data": {
            "text/plain": [
              "1.0000001"
            ]
          },
          "metadata": {
            "tags": []
          },
          "execution_count": 116
        }
      ]
    },
    {
      "cell_type": "markdown",
      "metadata": {
        "id": "Y5fat43HLRDd",
        "colab_type": "text"
      },
      "source": [
        "The largest entry is the predicted class, i.e. the class with the highest probability:"
      ]
    },
    {
      "cell_type": "code",
      "metadata": {
        "id": "uaB_UhZ3LRDd",
        "colab_type": "code",
        "outputId": "ae4ef2f4-d6ab-499e-9430-b5d2b413621f",
        "colab": {
          "base_uri": "https://localhost:8080/",
          "height": 34
        }
      },
      "source": [
        "np.argmax(predictions[0])"
      ],
      "execution_count": 0,
      "outputs": [
        {
          "output_type": "execute_result",
          "data": {
            "text/plain": [
              "3"
            ]
          },
          "metadata": {
            "tags": []
          },
          "execution_count": 117
        }
      ]
    },
    {
      "cell_type": "markdown",
      "metadata": {
        "id": "e6T4OAB8LRDf",
        "colab_type": "text"
      },
      "source": [
        "## A different way to handle the labels and the loss\n",
        "\n",
        "We mentioned earlier that another way to encode the labels would be to cast them as an integer tensor, like such:"
      ]
    },
    {
      "cell_type": "code",
      "metadata": {
        "id": "33SjgeXxLRDf",
        "colab_type": "code",
        "colab": {}
      },
      "source": [
        "y_train = np.array(train_labels)\n",
        "y_test = np.array(test_labels)"
      ],
      "execution_count": 0,
      "outputs": []
    },
    {
      "cell_type": "markdown",
      "metadata": {
        "id": "9KdGZDO0LRDh",
        "colab_type": "text"
      },
      "source": [
        "\n",
        "The only thing it would change is the choice of the loss function. Our previous loss, `categorical_crossentropy`, expects the labels to \n",
        "follow a categorical encoding. With integer labels, we should use `sparse_categorical_crossentropy`:"
      ]
    },
    {
      "cell_type": "code",
      "metadata": {
        "id": "5Eb0P96VLRDi",
        "colab_type": "code",
        "colab": {}
      },
      "source": [
        "model.compile(optimizer='rmsprop', loss='sparse_categorical_crossentropy', metrics=['acc'])"
      ],
      "execution_count": 0,
      "outputs": []
    },
    {
      "cell_type": "markdown",
      "metadata": {
        "id": "yXb-AoQdLRDk",
        "colab_type": "text"
      },
      "source": [
        "This new loss function is still mathematically the same as `categorical_crossentropy`; it just has a different interface."
      ]
    },
    {
      "cell_type": "markdown",
      "metadata": {
        "id": "ULvhHEQmLRDl",
        "colab_type": "text"
      },
      "source": [
        "## On the importance of having sufficiently large intermediate layers\n",
        "\n",
        "\n",
        "We mentioned earlier that since our final outputs were 46-dimensional, we should avoid intermediate layers with much less than 46 hidden \n",
        "units. Now let's try to see what happens when we introduce an information bottleneck by having intermediate layers significantly less than \n",
        "46-dimensional, e.g. 4-dimensional."
      ]
    },
    {
      "cell_type": "code",
      "metadata": {
        "id": "FuJutfp8LRDl",
        "colab_type": "code",
        "outputId": "8538fef2-320f-460b-d513-3582cf35dbe0",
        "colab": {
          "base_uri": "https://localhost:8080/",
          "height": 714
        }
      },
      "source": [
        "model = models.Sequential()\n",
        "model.add(layers.Dense(64, activation='relu', input_shape=(10000,)))\n",
        "model.add(layers.Dense(4, activation='relu'))\n",
        "model.add(layers.Dense(46, activation='softmax'))\n",
        "\n",
        "model.compile(optimizer='rmsprop',\n",
        "              loss='categorical_crossentropy',\n",
        "              metrics=['accuracy'])\n",
        "model.fit(partial_x_train,\n",
        "          partial_y_train,\n",
        "          epochs=20,\n",
        "          batch_size=128,\n",
        "          validation_data=(x_val, y_val))"
      ],
      "execution_count": 0,
      "outputs": [
        {
          "output_type": "stream",
          "text": [
            "Epoch 1/20\n",
            "63/63 [==============================] - 1s 18ms/step - loss: 2.7115 - accuracy: 0.4206 - val_loss: 2.0143 - val_accuracy: 0.5440\n",
            "Epoch 2/20\n",
            "63/63 [==============================] - 1s 16ms/step - loss: 1.7868 - accuracy: 0.5594 - val_loss: 1.6248 - val_accuracy: 0.5660\n",
            "Epoch 3/20\n",
            "63/63 [==============================] - 1s 16ms/step - loss: 1.4618 - accuracy: 0.5927 - val_loss: 1.4563 - val_accuracy: 0.6050\n",
            "Epoch 4/20\n",
            "63/63 [==============================] - 1s 16ms/step - loss: 1.2387 - accuracy: 0.6744 - val_loss: 1.3747 - val_accuracy: 0.6570\n",
            "Epoch 5/20\n",
            "63/63 [==============================] - 1s 16ms/step - loss: 1.0925 - accuracy: 0.7245 - val_loss: 1.3085 - val_accuracy: 0.6790\n",
            "Epoch 6/20\n",
            "63/63 [==============================] - 1s 16ms/step - loss: 0.9764 - accuracy: 0.7557 - val_loss: 1.2989 - val_accuracy: 0.6900\n",
            "Epoch 7/20\n",
            "63/63 [==============================] - 1s 16ms/step - loss: 0.8810 - accuracy: 0.7880 - val_loss: 1.2823 - val_accuracy: 0.7020\n",
            "Epoch 8/20\n",
            "63/63 [==============================] - 1s 16ms/step - loss: 0.8088 - accuracy: 0.8068 - val_loss: 1.3186 - val_accuracy: 0.7100\n",
            "Epoch 9/20\n",
            "63/63 [==============================] - 1s 17ms/step - loss: 0.7384 - accuracy: 0.8244 - val_loss: 1.3225 - val_accuracy: 0.7110\n",
            "Epoch 10/20\n",
            "63/63 [==============================] - 1s 16ms/step - loss: 0.6865 - accuracy: 0.8321 - val_loss: 1.3724 - val_accuracy: 0.7130\n",
            "Epoch 11/20\n",
            "63/63 [==============================] - 1s 16ms/step - loss: 0.6344 - accuracy: 0.8363 - val_loss: 1.4008 - val_accuracy: 0.7100\n",
            "Epoch 12/20\n",
            "63/63 [==============================] - 1s 16ms/step - loss: 0.5911 - accuracy: 0.8424 - val_loss: 1.4358 - val_accuracy: 0.7010\n",
            "Epoch 13/20\n",
            "63/63 [==============================] - 1s 17ms/step - loss: 0.5627 - accuracy: 0.8475 - val_loss: 1.4718 - val_accuracy: 0.7070\n",
            "Epoch 14/20\n",
            "63/63 [==============================] - 1s 16ms/step - loss: 0.5259 - accuracy: 0.8567 - val_loss: 1.5289 - val_accuracy: 0.7010\n",
            "Epoch 15/20\n",
            "63/63 [==============================] - 1s 16ms/step - loss: 0.4988 - accuracy: 0.8667 - val_loss: 1.5394 - val_accuracy: 0.7020\n",
            "Epoch 16/20\n",
            "63/63 [==============================] - 1s 17ms/step - loss: 0.4729 - accuracy: 0.8705 - val_loss: 1.6216 - val_accuracy: 0.7020\n",
            "Epoch 17/20\n",
            "63/63 [==============================] - 1s 16ms/step - loss: 0.4523 - accuracy: 0.8768 - val_loss: 1.6580 - val_accuracy: 0.7010\n",
            "Epoch 18/20\n",
            "63/63 [==============================] - 1s 17ms/step - loss: 0.4304 - accuracy: 0.8821 - val_loss: 1.7382 - val_accuracy: 0.7040\n",
            "Epoch 19/20\n",
            "63/63 [==============================] - 1s 17ms/step - loss: 0.4100 - accuracy: 0.8842 - val_loss: 1.8096 - val_accuracy: 0.6970\n",
            "Epoch 20/20\n",
            "63/63 [==============================] - 1s 17ms/step - loss: 0.4002 - accuracy: 0.8910 - val_loss: 1.8172 - val_accuracy: 0.7020\n"
          ],
          "name": "stdout"
        },
        {
          "output_type": "execute_result",
          "data": {
            "text/plain": [
              "<tensorflow.python.keras.callbacks.History at 0x7fc49013ca90>"
            ]
          },
          "metadata": {
            "tags": []
          },
          "execution_count": 120
        }
      ]
    },
    {
      "cell_type": "markdown",
      "metadata": {
        "id": "bKoQDzKILRDo",
        "colab_type": "text"
      },
      "source": [
        "\n",
        "Our network now seems to peak at ~71% test accuracy, a 8% absolute drop. This drop is mostly due to the fact that we are now trying to \n",
        "compress a lot of information (enough information to recover the separation hyperplanes of 46 classes) into an intermediate space that is \n",
        "too low-dimensional. The network is able to cram _most_ of the necessary information into these 8-dimensional representations, but not all \n",
        "of it."
      ]
    },
    {
      "cell_type": "markdown",
      "metadata": {
        "id": "BNuBr-OULRDo",
        "colab_type": "text"
      },
      "source": [
        "## Further experiments\n",
        "\n",
        "* Try using larger or smaller layers: 32 units, 128 units...\n",
        "* We were using two hidden layers. Now try to use a single hidden layer, or three hidden layers."
      ]
    },
    {
      "cell_type": "markdown",
      "metadata": {
        "id": "-UgYPYkeLRDp",
        "colab_type": "text"
      },
      "source": [
        "## Wrapping up\n",
        "\n",
        "\n",
        "Here's what you should take away from this example:\n",
        "\n",
        "* If you are trying to classify data points between N classes, your network should end with a `Dense` layer of size N.\n",
        "* In a single-label, multi-class classification problem, your network should end with a `softmax` activation, so that it will output a \n",
        "probability distribution over the N output classes.\n",
        "* _Categorical crossentropy_ is almost always the loss function you should use for such problems. It minimizes the distance between the \n",
        "probability distributions output by the network, and the true distribution of the targets.\n",
        "* There are two ways to handle labels in multi-class classification:\n",
        "    ** Encoding the labels via \"categorical encoding\" (also known as \"one-hot encoding\") and using `categorical_crossentropy` as your loss \n",
        "function.\n",
        "    ** Encoding the labels as integers and using the `sparse_categorical_crossentropy` loss function.\n",
        "* If you need to classify data into a large number of categories, then you should avoid creating information bottlenecks in your network by having \n",
        "intermediate layers that are too small."
      ]
    },
    {
      "cell_type": "markdown",
      "metadata": {
        "id": "W9ObKr7f2f37",
        "colab_type": "text"
      },
      "source": [
        "# Różna ilość ukrytych wartstw"
      ]
    },
    {
      "cell_type": "markdown",
      "metadata": {
        "id": "DAZMLKMOQsgm",
        "colab_type": "text"
      },
      "source": [
        "Wartości porównywalne: [0.9748356938362122, 0.7853962779045105] (2 warstwy 64 elementy, relu, categorical_crossentropy, 8 epok)"
      ]
    },
    {
      "cell_type": "markdown",
      "metadata": {
        "id": "vr-kEKQFDljT",
        "colab_type": "text"
      },
      "source": [
        "1"
      ]
    },
    {
      "cell_type": "code",
      "metadata": {
        "colab_type": "code",
        "outputId": "095e1b14-af6e-49fa-df74-714c95d9ef29",
        "id": "TutRCLFK3LhL",
        "colab": {
          "base_uri": "https://localhost:8080/",
          "height": 323
        }
      },
      "source": [
        "model = models.Sequential()\n",
        "model.add(layers.Dense(64, activation='relu', input_shape=(10000,)))\n",
        "model.add(layers.Dense(46, activation='softmax'))\n",
        "\n",
        "model.compile(optimizer='rmsprop',\n",
        "              loss='categorical_crossentropy',\n",
        "              metrics=['accuracy'])\n",
        "model.fit(partial_x_train,\n",
        "          partial_y_train,\n",
        "          epochs=8,\n",
        "          batch_size=512,\n",
        "          validation_data=(x_val, y_val))\n",
        "results = model.evaluate(x_test, one_hot_test_labels)\n",
        "print(results)"
      ],
      "execution_count": 0,
      "outputs": [
        {
          "output_type": "stream",
          "text": [
            "Epoch 1/8\n",
            "16/16 [==============================] - 1s 49ms/step - loss: 2.6626 - accuracy: 0.5342 - val_loss: 1.9069 - val_accuracy: 0.6490\n",
            "Epoch 2/8\n",
            "16/16 [==============================] - 1s 44ms/step - loss: 1.5236 - accuracy: 0.7159 - val_loss: 1.3968 - val_accuracy: 0.7300\n",
            "Epoch 3/8\n",
            "16/16 [==============================] - 1s 44ms/step - loss: 1.0894 - accuracy: 0.7892 - val_loss: 1.1468 - val_accuracy: 0.7660\n",
            "Epoch 4/8\n",
            "16/16 [==============================] - 1s 44ms/step - loss: 0.8372 - accuracy: 0.8332 - val_loss: 1.0255 - val_accuracy: 0.7880\n",
            "Epoch 5/8\n",
            "16/16 [==============================] - 1s 43ms/step - loss: 0.6653 - accuracy: 0.8686 - val_loss: 0.9381 - val_accuracy: 0.8010\n",
            "Epoch 6/8\n",
            "16/16 [==============================] - 1s 43ms/step - loss: 0.5403 - accuracy: 0.8938 - val_loss: 0.8924 - val_accuracy: 0.8120\n",
            "Epoch 7/8\n",
            "16/16 [==============================] - 1s 43ms/step - loss: 0.4491 - accuracy: 0.9094 - val_loss: 0.8469 - val_accuracy: 0.8230\n",
            "Epoch 8/8\n",
            "16/16 [==============================] - 1s 44ms/step - loss: 0.3744 - accuracy: 0.9263 - val_loss: 0.8322 - val_accuracy: 0.8160\n",
            "71/71 [==============================] - 0s 2ms/step - loss: 0.9271 - accuracy: 0.8001\n",
            "[0.9271455407142639, 0.8000890612602234]\n"
          ],
          "name": "stdout"
        }
      ]
    },
    {
      "cell_type": "code",
      "metadata": {
        "id": "ErBFRFA6xu7i",
        "colab_type": "code",
        "outputId": "223cd7c1-5b2f-4c53-8a5b-1d1737428d8a",
        "colab": {
          "base_uri": "https://localhost:8080/",
          "height": 1000
        }
      },
      "source": [
        "from sklearn.metrics import classification_report, confusion_matrix\n",
        "\n",
        "predictions = model.predict(x_test)\n",
        "predicted_labels=[np.argmax(prediction) for prediction in predictions ]\n",
        "\n",
        "cm = confusion_matrix(test_labels, predicted_labels)\n",
        "print(cm)\n",
        "print(classification_report(test_labels, predicted_labels))"
      ],
      "execution_count": 0,
      "outputs": [
        {
          "output_type": "stream",
          "text": [
            "[[ 7  2  0 ...  0  0  0]\n",
            " [ 0 86  0 ...  0  0  0]\n",
            " [ 0  3 14 ...  0  0  0]\n",
            " ...\n",
            " [ 0  0  0 ...  4  0  0]\n",
            " [ 0  0  0 ...  0  4  0]\n",
            " [ 0  0  0 ...  0  0  0]]\n",
            "              precision    recall  f1-score   support\n",
            "\n",
            "           0       0.88      0.58      0.70        12\n",
            "           1       0.63      0.82      0.71       105\n",
            "           2       0.82      0.70      0.76        20\n",
            "           3       0.93      0.94      0.94       813\n",
            "           4       0.80      0.91      0.85       474\n",
            "           5       0.00      0.00      0.00         5\n",
            "           6       0.93      0.93      0.93        14\n",
            "           7       1.00      0.33      0.50         3\n",
            "           8       0.66      0.66      0.66        38\n",
            "           9       0.82      0.72      0.77        25\n",
            "          10       0.86      0.83      0.85        30\n",
            "          11       0.66      0.76      0.70        83\n",
            "          12       0.00      0.00      0.00        13\n",
            "          13       0.59      0.62      0.61        37\n",
            "          14       0.00      0.00      0.00         2\n",
            "          15       0.50      0.11      0.18         9\n",
            "          16       0.64      0.79      0.71        99\n",
            "          17       1.00      0.17      0.29        12\n",
            "          18       0.71      0.60      0.65        20\n",
            "          19       0.65      0.73      0.69       133\n",
            "          20       0.64      0.56      0.60        70\n",
            "          21       0.74      0.74      0.74        27\n",
            "          22       0.00      0.00      0.00         7\n",
            "          23       0.70      0.58      0.64        12\n",
            "          24       0.60      0.32      0.41        19\n",
            "          25       0.86      0.58      0.69        31\n",
            "          26       1.00      0.75      0.86         8\n",
            "          27       1.00      0.25      0.40         4\n",
            "          28       0.33      0.10      0.15        10\n",
            "          29       0.00      0.00      0.00         4\n",
            "          30       0.88      0.58      0.70        12\n",
            "          31       0.75      0.23      0.35        13\n",
            "          32       1.00      0.60      0.75        10\n",
            "          33       0.00      0.00      0.00         5\n",
            "          34       0.83      0.71      0.77         7\n",
            "          35       1.00      0.17      0.29         6\n",
            "          36       0.50      0.36      0.42        11\n",
            "          37       0.00      0.00      0.00         2\n",
            "          38       1.00      0.33      0.50         3\n",
            "          39       1.00      0.20      0.33         5\n",
            "          40       0.00      0.00      0.00        10\n",
            "          41       0.50      0.12      0.20         8\n",
            "          42       1.00      0.33      0.50         3\n",
            "          43       1.00      0.67      0.80         6\n",
            "          44       1.00      0.80      0.89         5\n",
            "          45       0.00      0.00      0.00         1\n",
            "\n",
            "    accuracy                           0.80      2246\n",
            "   macro avg       0.64      0.44      0.49      2246\n",
            "weighted avg       0.79      0.80      0.78      2246\n",
            "\n"
          ],
          "name": "stdout"
        },
        {
          "output_type": "stream",
          "text": [
            "/usr/local/lib/python3.6/dist-packages/sklearn/metrics/_classification.py:1272: UndefinedMetricWarning: Precision and F-score are ill-defined and being set to 0.0 in labels with no predicted samples. Use `zero_division` parameter to control this behavior.\n",
            "  _warn_prf(average, modifier, msg_start, len(result))\n"
          ],
          "name": "stderr"
        }
      ]
    },
    {
      "cell_type": "markdown",
      "metadata": {
        "id": "LL17wgX_DpPL",
        "colab_type": "text"
      },
      "source": [
        "3"
      ]
    },
    {
      "cell_type": "code",
      "metadata": {
        "id": "ohBDe7VjD8pZ",
        "colab_type": "code",
        "outputId": "7a7b4af4-3047-4cee-9cd0-82e2a1cf3844",
        "colab": {
          "base_uri": "https://localhost:8080/",
          "height": 323
        }
      },
      "source": [
        "model = models.Sequential()\n",
        "model.add(layers.Dense(64, activation='relu', input_shape=(10000,)))\n",
        "model.add(layers.Dense(64, activation='relu'))\n",
        "model.add(layers.Dense(64, activation='relu'))\n",
        "model.add(layers.Dense(46, activation='softmax'))\n",
        "\n",
        "model.compile(optimizer='rmsprop',\n",
        "              loss='categorical_crossentropy',\n",
        "              metrics=['accuracy'])\n",
        "model.fit(partial_x_train,\n",
        "          partial_y_train,\n",
        "          epochs=8,\n",
        "          batch_size=512,\n",
        "          validation_data=(x_val, y_val))\n",
        "results = model.evaluate(x_test, one_hot_test_labels)\n",
        "print(results)"
      ],
      "execution_count": 0,
      "outputs": [
        {
          "output_type": "stream",
          "text": [
            "Epoch 1/8\n",
            "16/16 [==============================] - 1s 53ms/step - loss: 2.5660 - accuracy: 0.4739 - val_loss: 1.6666 - val_accuracy: 0.6410\n",
            "Epoch 2/8\n",
            "16/16 [==============================] - 1s 44ms/step - loss: 1.4177 - accuracy: 0.6944 - val_loss: 1.3069 - val_accuracy: 0.7090\n",
            "Epoch 3/8\n",
            "16/16 [==============================] - 1s 44ms/step - loss: 1.0890 - accuracy: 0.7526 - val_loss: 1.1723 - val_accuracy: 0.7390\n",
            "Epoch 4/8\n",
            "16/16 [==============================] - 1s 45ms/step - loss: 0.8707 - accuracy: 0.8061 - val_loss: 1.0923 - val_accuracy: 0.7580\n",
            "Epoch 5/8\n",
            "16/16 [==============================] - 1s 44ms/step - loss: 0.6873 - accuracy: 0.8483 - val_loss: 1.0931 - val_accuracy: 0.7470\n",
            "Epoch 6/8\n",
            "16/16 [==============================] - 1s 44ms/step - loss: 0.5640 - accuracy: 0.8725 - val_loss: 0.9704 - val_accuracy: 0.7900\n",
            "Epoch 7/8\n",
            "16/16 [==============================] - 1s 45ms/step - loss: 0.4532 - accuracy: 0.9024 - val_loss: 0.9814 - val_accuracy: 0.7970\n",
            "Epoch 8/8\n",
            "16/16 [==============================] - 1s 44ms/step - loss: 0.3581 - accuracy: 0.9216 - val_loss: 0.9834 - val_accuracy: 0.8040\n",
            "71/71 [==============================] - 0s 2ms/step - loss: 1.0919 - accuracy: 0.7720\n",
            "[1.0919252634048462, 0.7720391750335693]\n"
          ],
          "name": "stdout"
        }
      ]
    },
    {
      "cell_type": "code",
      "metadata": {
        "colab_type": "code",
        "outputId": "5b2ec09c-a57d-4d0d-db49-ef9d726de4a7",
        "id": "NSpAi-hPECYP",
        "colab": {
          "base_uri": "https://localhost:8080/",
          "height": 1000
        }
      },
      "source": [
        "from sklearn.metrics import classification_report, confusion_matrix\n",
        "\n",
        "predictions = model.predict(x_test)\n",
        "predicted_labels=[np.argmax(prediction) for prediction in predictions ]\n",
        "\n",
        "cm = confusion_matrix(test_labels, predicted_labels)\n",
        "print(cm)\n",
        "print(classification_report(test_labels, predicted_labels))"
      ],
      "execution_count": 0,
      "outputs": [
        {
          "output_type": "stream",
          "text": [
            "[[ 5  2  0 ...  0  0  0]\n",
            " [ 0 89  1 ...  0  0  0]\n",
            " [ 0  2 12 ...  0  0  0]\n",
            " ...\n",
            " [ 0  0  0 ...  2  0  0]\n",
            " [ 0  0  0 ...  0  4  0]\n",
            " [ 0  0  0 ...  0  0  0]]\n",
            "              precision    recall  f1-score   support\n",
            "\n",
            "           0       0.83      0.42      0.56        12\n",
            "           1       0.61      0.85      0.71       105\n",
            "           2       0.80      0.60      0.69        20\n",
            "           3       0.92      0.92      0.92       813\n",
            "           4       0.80      0.90      0.85       474\n",
            "           5       0.00      0.00      0.00         5\n",
            "           6       0.92      0.86      0.89        14\n",
            "           7       1.00      0.33      0.50         3\n",
            "           8       0.67      0.63      0.65        38\n",
            "           9       0.68      0.68      0.68        25\n",
            "          10       0.79      0.73      0.76        30\n",
            "          11       0.58      0.73      0.65        83\n",
            "          12       0.20      0.08      0.11        13\n",
            "          13       0.61      0.54      0.57        37\n",
            "          14       0.00      0.00      0.00         2\n",
            "          15       0.50      0.11      0.18         9\n",
            "          16       0.61      0.81      0.70        99\n",
            "          17       1.00      0.08      0.15        12\n",
            "          18       0.63      0.60      0.62        20\n",
            "          19       0.58      0.77      0.66       133\n",
            "          20       0.62      0.36      0.45        70\n",
            "          21       0.57      0.78      0.66        27\n",
            "          22       0.00      0.00      0.00         7\n",
            "          23       0.56      0.42      0.48        12\n",
            "          24       0.60      0.32      0.41        19\n",
            "          25       0.82      0.58      0.68        31\n",
            "          26       0.71      0.62      0.67         8\n",
            "          27       1.00      0.25      0.40         4\n",
            "          28       1.00      0.10      0.18        10\n",
            "          29       0.00      0.00      0.00         4\n",
            "          30       0.50      0.17      0.25        12\n",
            "          31       1.00      0.15      0.27        13\n",
            "          32       1.00      0.60      0.75        10\n",
            "          33       0.00      0.00      0.00         5\n",
            "          34       0.75      0.43      0.55         7\n",
            "          35       0.00      0.00      0.00         6\n",
            "          36       0.00      0.00      0.00        11\n",
            "          37       0.00      0.00      0.00         2\n",
            "          38       0.00      0.00      0.00         3\n",
            "          39       0.00      0.00      0.00         5\n",
            "          40       0.00      0.00      0.00        10\n",
            "          41       0.00      0.00      0.00         8\n",
            "          42       0.00      0.00      0.00         3\n",
            "          43       0.67      0.33      0.44         6\n",
            "          44       1.00      0.80      0.89         5\n",
            "          45       0.00      0.00      0.00         1\n",
            "\n",
            "    accuracy                           0.77      2246\n",
            "   macro avg       0.51      0.36      0.39      2246\n",
            "weighted avg       0.76      0.77      0.75      2246\n",
            "\n"
          ],
          "name": "stdout"
        },
        {
          "output_type": "stream",
          "text": [
            "/usr/local/lib/python3.6/dist-packages/sklearn/metrics/_classification.py:1272: UndefinedMetricWarning: Precision and F-score are ill-defined and being set to 0.0 in labels with no predicted samples. Use `zero_division` parameter to control this behavior.\n",
            "  _warn_prf(average, modifier, msg_start, len(result))\n"
          ],
          "name": "stderr"
        }
      ]
    },
    {
      "cell_type": "markdown",
      "metadata": {
        "id": "N-rpZOu9E4zp",
        "colab_type": "text"
      },
      "source": [
        "# Warstwy z inną liczbą elementów"
      ]
    },
    {
      "cell_type": "markdown",
      "metadata": {
        "id": "BmPCdl7DFNkY",
        "colab_type": "text"
      },
      "source": [
        "32"
      ]
    },
    {
      "cell_type": "code",
      "metadata": {
        "id": "2jAresoXFFvH",
        "colab_type": "code",
        "outputId": "f9450540-a097-4aaa-80fa-afc5cd0994c8",
        "colab": {
          "base_uri": "https://localhost:8080/",
          "height": 323
        }
      },
      "source": [
        "model = models.Sequential()\n",
        "model.add(layers.Dense(32, activation='relu', input_shape=(10000,)))\n",
        "model.add(layers.Dense(32, activation='relu'))\n",
        "model.add(layers.Dense(46, activation='softmax'))\n",
        "\n",
        "model.compile(optimizer='rmsprop',\n",
        "              loss='categorical_crossentropy',\n",
        "              metrics=['accuracy'])\n",
        "model.fit(partial_x_train,\n",
        "          partial_y_train,\n",
        "          epochs=8,\n",
        "          batch_size=512,\n",
        "          validation_data=(x_val, y_val))\n",
        "results = model.evaluate(x_test, one_hot_test_labels)\n",
        "print(results)"
      ],
      "execution_count": 0,
      "outputs": [
        {
          "output_type": "stream",
          "text": [
            "Epoch 1/8\n",
            "16/16 [==============================] - 1s 39ms/step - loss: 2.9414 - accuracy: 0.4837 - val_loss: 2.2320 - val_accuracy: 0.5720\n",
            "Epoch 2/8\n",
            "16/16 [==============================] - 1s 33ms/step - loss: 1.8514 - accuracy: 0.6234 - val_loss: 1.6558 - val_accuracy: 0.6420\n",
            "Epoch 3/8\n",
            "16/16 [==============================] - 1s 33ms/step - loss: 1.4111 - accuracy: 0.6952 - val_loss: 1.3995 - val_accuracy: 0.6960\n",
            "Epoch 4/8\n",
            "16/16 [==============================] - 1s 34ms/step - loss: 1.1566 - accuracy: 0.7519 - val_loss: 1.2483 - val_accuracy: 0.7350\n",
            "Epoch 5/8\n",
            "16/16 [==============================] - 1s 32ms/step - loss: 0.9729 - accuracy: 0.7914 - val_loss: 1.1571 - val_accuracy: 0.7500\n",
            "Epoch 6/8\n",
            "16/16 [==============================] - 1s 34ms/step - loss: 0.8380 - accuracy: 0.8170 - val_loss: 1.0850 - val_accuracy: 0.7650\n",
            "Epoch 7/8\n",
            "16/16 [==============================] - 1s 34ms/step - loss: 0.7197 - accuracy: 0.8441 - val_loss: 1.0386 - val_accuracy: 0.7790\n",
            "Epoch 8/8\n",
            "16/16 [==============================] - 1s 33ms/step - loss: 0.6271 - accuracy: 0.8636 - val_loss: 1.0018 - val_accuracy: 0.7880\n",
            "71/71 [==============================] - 0s 2ms/step - loss: 1.0639 - accuracy: 0.7680\n",
            "[1.0639104843139648, 0.7680320739746094]\n"
          ],
          "name": "stdout"
        }
      ]
    },
    {
      "cell_type": "code",
      "metadata": {
        "id": "YuKWjnozFJuv",
        "colab_type": "code",
        "outputId": "9a5e7c16-e3dd-46c2-f2b9-dff5c7ca546a",
        "colab": {
          "base_uri": "https://localhost:8080/",
          "height": 1000
        }
      },
      "source": [
        "from sklearn.metrics import classification_report, confusion_matrix\n",
        "\n",
        "predictions = model.predict(x_test)\n",
        "predicted_labels=[np.argmax(prediction) for prediction in predictions ]\n",
        "\n",
        "cm = confusion_matrix(test_labels, predicted_labels)\n",
        "print(cm)\n",
        "print(classification_report(test_labels, predicted_labels))"
      ],
      "execution_count": 0,
      "outputs": [
        {
          "output_type": "stream",
          "text": [
            "[[ 6  3  1 ...  0  0  0]\n",
            " [ 0 91  0 ...  0  0  0]\n",
            " [ 0  5 12 ...  0  0  0]\n",
            " ...\n",
            " [ 0  0  0 ...  2  0  0]\n",
            " [ 0  1  0 ...  0  0  0]\n",
            " [ 0  0  0 ...  0  0  0]]\n",
            "              precision    recall  f1-score   support\n",
            "\n",
            "           0       0.75      0.50      0.60        12\n",
            "           1       0.54      0.87      0.66       105\n",
            "           2       0.57      0.60      0.59        20\n",
            "           3       0.90      0.94      0.92       813\n",
            "           4       0.79      0.92      0.85       474\n",
            "           5       0.00      0.00      0.00         5\n",
            "           6       1.00      0.36      0.53        14\n",
            "           7       0.00      0.00      0.00         3\n",
            "           8       0.67      0.63      0.65        38\n",
            "           9       0.85      0.68      0.76        25\n",
            "          10       0.92      0.37      0.52        30\n",
            "          11       0.61      0.78      0.68        83\n",
            "          12       0.00      0.00      0.00        13\n",
            "          13       0.59      0.62      0.61        37\n",
            "          14       0.00      0.00      0.00         2\n",
            "          15       0.50      0.11      0.18         9\n",
            "          16       0.64      0.79      0.71        99\n",
            "          17       1.00      0.17      0.29        12\n",
            "          18       0.70      0.35      0.47        20\n",
            "          19       0.65      0.77      0.71       133\n",
            "          20       0.76      0.44      0.56        70\n",
            "          21       0.45      0.74      0.56        27\n",
            "          22       0.00      0.00      0.00         7\n",
            "          23       0.23      0.25      0.24        12\n",
            "          24       0.67      0.21      0.32        19\n",
            "          25       0.92      0.39      0.55        31\n",
            "          26       0.00      0.00      0.00         8\n",
            "          27       0.00      0.00      0.00         4\n",
            "          28       0.00      0.00      0.00        10\n",
            "          29       0.00      0.00      0.00         4\n",
            "          30       0.00      0.00      0.00        12\n",
            "          31       1.00      0.23      0.38        13\n",
            "          32       1.00      0.20      0.33        10\n",
            "          33       0.00      0.00      0.00         5\n",
            "          34       1.00      0.29      0.44         7\n",
            "          35       0.00      0.00      0.00         6\n",
            "          36       0.00      0.00      0.00        11\n",
            "          37       0.00      0.00      0.00         2\n",
            "          38       0.00      0.00      0.00         3\n",
            "          39       0.00      0.00      0.00         5\n",
            "          40       0.00      0.00      0.00        10\n",
            "          41       0.00      0.00      0.00         8\n",
            "          42       0.00      0.00      0.00         3\n",
            "          43       1.00      0.33      0.50         6\n",
            "          44       0.00      0.00      0.00         5\n",
            "          45       0.00      0.00      0.00         1\n",
            "\n",
            "    accuracy                           0.77      2246\n",
            "   macro avg       0.41      0.27      0.30      2246\n",
            "weighted avg       0.74      0.77      0.74      2246\n",
            "\n"
          ],
          "name": "stdout"
        },
        {
          "output_type": "stream",
          "text": [
            "/usr/local/lib/python3.6/dist-packages/sklearn/metrics/_classification.py:1272: UndefinedMetricWarning: Precision and F-score are ill-defined and being set to 0.0 in labels with no predicted samples. Use `zero_division` parameter to control this behavior.\n",
            "  _warn_prf(average, modifier, msg_start, len(result))\n"
          ],
          "name": "stderr"
        }
      ]
    },
    {
      "cell_type": "markdown",
      "metadata": {
        "id": "QRd9Cm9OFbbG",
        "colab_type": "text"
      },
      "source": [
        "128"
      ]
    },
    {
      "cell_type": "code",
      "metadata": {
        "id": "L4MSD0ODFc6u",
        "colab_type": "code",
        "outputId": "5ca3c90b-aee7-4b23-9ecc-bf0c1f2bf79a",
        "colab": {
          "base_uri": "https://localhost:8080/",
          "height": 323
        }
      },
      "source": [
        "model = models.Sequential()\n",
        "model.add(layers.Dense(128, activation='relu', input_shape=(10000,)))\n",
        "model.add(layers.Dense(128, activation='relu'))\n",
        "model.add(layers.Dense(46, activation='softmax'))\n",
        "\n",
        "model.compile(optimizer='rmsprop',\n",
        "              loss='categorical_crossentropy',\n",
        "              metrics=['accuracy'])\n",
        "model.fit(partial_x_train,\n",
        "          partial_y_train,\n",
        "          epochs=8,\n",
        "          batch_size=512,\n",
        "          validation_data=(x_val, y_val))\n",
        "results = model.evaluate(x_test, one_hot_test_labels)\n",
        "print(results)"
      ],
      "execution_count": 0,
      "outputs": [
        {
          "output_type": "stream",
          "text": [
            "Epoch 1/8\n",
            "16/16 [==============================] - 1s 75ms/step - loss: 2.1532 - accuracy: 0.5549 - val_loss: 1.4276 - val_accuracy: 0.6730\n",
            "Epoch 2/8\n",
            "16/16 [==============================] - 1s 69ms/step - loss: 1.1359 - accuracy: 0.7507 - val_loss: 1.1115 - val_accuracy: 0.7660\n",
            "Epoch 3/8\n",
            "16/16 [==============================] - 1s 69ms/step - loss: 0.8013 - accuracy: 0.8222 - val_loss: 0.9979 - val_accuracy: 0.7750\n",
            "Epoch 4/8\n",
            "16/16 [==============================] - 1s 69ms/step - loss: 0.5614 - accuracy: 0.8822 - val_loss: 0.9353 - val_accuracy: 0.7940\n",
            "Epoch 5/8\n",
            "16/16 [==============================] - 1s 70ms/step - loss: 0.4196 - accuracy: 0.9116 - val_loss: 0.8667 - val_accuracy: 0.8140\n",
            "Epoch 6/8\n",
            "16/16 [==============================] - 1s 70ms/step - loss: 0.3088 - accuracy: 0.9326 - val_loss: 0.9082 - val_accuracy: 0.8020\n",
            "Epoch 7/8\n",
            "16/16 [==============================] - 1s 71ms/step - loss: 0.2501 - accuracy: 0.9411 - val_loss: 0.8707 - val_accuracy: 0.8240\n",
            "Epoch 8/8\n",
            "16/16 [==============================] - 1s 69ms/step - loss: 0.2031 - accuracy: 0.9490 - val_loss: 0.9198 - val_accuracy: 0.8140\n",
            "71/71 [==============================] - 0s 3ms/step - loss: 1.0267 - accuracy: 0.7943\n",
            "[1.0266584157943726, 0.7943009734153748]\n"
          ],
          "name": "stdout"
        }
      ]
    },
    {
      "cell_type": "code",
      "metadata": {
        "id": "bis65DqGFgGK",
        "colab_type": "code",
        "outputId": "3081fe0d-6516-4d28-bd39-f6bc4f932c3c",
        "colab": {
          "base_uri": "https://localhost:8080/",
          "height": 1000
        }
      },
      "source": [
        "from sklearn.metrics import classification_report, confusion_matrix\n",
        "\n",
        "predictions = model.predict(x_test)\n",
        "predicted_labels=[np.argmax(prediction) for prediction in predictions ]\n",
        "\n",
        "cm = confusion_matrix(test_labels, predicted_labels)\n",
        "print(cm)\n",
        "print(classification_report(test_labels, predicted_labels))"
      ],
      "execution_count": 0,
      "outputs": [
        {
          "output_type": "stream",
          "text": [
            "[[ 7  3  0 ...  0  0  0]\n",
            " [ 0 88  0 ...  0  0  0]\n",
            " [ 0  2 11 ...  0  0  0]\n",
            " ...\n",
            " [ 0  0  0 ...  6  0  0]\n",
            " [ 0  1  0 ...  0  4  0]\n",
            " [ 0  0  0 ...  0  0  0]]\n",
            "              precision    recall  f1-score   support\n",
            "\n",
            "           0       0.88      0.58      0.70        12\n",
            "           1       0.58      0.84      0.68       105\n",
            "           2       0.79      0.55      0.65        20\n",
            "           3       0.89      0.95      0.92       813\n",
            "           4       0.85      0.85      0.85       474\n",
            "           5       1.00      0.20      0.33         5\n",
            "           6       0.86      0.86      0.86        14\n",
            "           7       1.00      0.33      0.50         3\n",
            "           8       0.75      0.63      0.69        38\n",
            "           9       0.80      0.80      0.80        25\n",
            "          10       0.89      0.83      0.86        30\n",
            "          11       0.63      0.76      0.69        83\n",
            "          12       0.60      0.23      0.33        13\n",
            "          13       0.59      0.51      0.55        37\n",
            "          14       0.50      0.50      0.50         2\n",
            "          15       0.50      0.11      0.18         9\n",
            "          16       0.67      0.79      0.72        99\n",
            "          17       0.80      0.33      0.47        12\n",
            "          18       0.63      0.60      0.62        20\n",
            "          19       0.66      0.67      0.67       133\n",
            "          20       0.63      0.56      0.59        70\n",
            "          21       0.71      0.63      0.67        27\n",
            "          22       0.00      0.00      0.00         7\n",
            "          23       0.67      0.50      0.57        12\n",
            "          24       0.53      0.42      0.47        19\n",
            "          25       0.83      0.65      0.73        31\n",
            "          26       1.00      0.75      0.86         8\n",
            "          27       1.00      0.25      0.40         4\n",
            "          28       0.50      0.10      0.17        10\n",
            "          29       0.40      0.50      0.44         4\n",
            "          30       0.83      0.42      0.56        12\n",
            "          31       1.00      0.46      0.63        13\n",
            "          32       1.00      0.80      0.89        10\n",
            "          33       1.00      0.80      0.89         5\n",
            "          34       0.67      0.57      0.62         7\n",
            "          35       1.00      0.17      0.29         6\n",
            "          36       0.62      0.45      0.53        11\n",
            "          37       0.00      0.00      0.00         2\n",
            "          38       1.00      0.33      0.50         3\n",
            "          39       0.67      0.40      0.50         5\n",
            "          40       1.00      0.20      0.33        10\n",
            "          41       0.50      0.25      0.33         8\n",
            "          42       1.00      0.33      0.50         3\n",
            "          43       0.86      1.00      0.92         6\n",
            "          44       1.00      0.80      0.89         5\n",
            "          45       0.00      0.00      0.00         1\n",
            "\n",
            "    accuracy                           0.79      2246\n",
            "   macro avg       0.72      0.51      0.56      2246\n",
            "weighted avg       0.79      0.79      0.78      2246\n",
            "\n"
          ],
          "name": "stdout"
        },
        {
          "output_type": "stream",
          "text": [
            "/usr/local/lib/python3.6/dist-packages/sklearn/metrics/_classification.py:1272: UndefinedMetricWarning: Precision and F-score are ill-defined and being set to 0.0 in labels with no predicted samples. Use `zero_division` parameter to control this behavior.\n",
            "  _warn_prf(average, modifier, msg_start, len(result))\n"
          ],
          "name": "stderr"
        }
      ]
    },
    {
      "cell_type": "markdown",
      "metadata": {
        "id": "DFPGjVeqGEjD",
        "colab_type": "text"
      },
      "source": [
        "# Zmiana funkcji straty"
      ]
    },
    {
      "cell_type": "markdown",
      "metadata": {
        "id": "a8bvOJnLGKFK",
        "colab_type": "text"
      },
      "source": [
        " uzycie: mean_squared_error"
      ]
    },
    {
      "cell_type": "code",
      "metadata": {
        "colab_type": "code",
        "outputId": "55b6a0c9-179d-4d96-fe34-c84c84ba1c4b",
        "id": "gMJFbuUtI-KM",
        "colab": {
          "base_uri": "https://localhost:8080/",
          "height": 323
        }
      },
      "source": [
        "model = models.Sequential()\n",
        "model.add(layers.Dense(64, activation='relu', input_shape=(10000,)))\n",
        "model.add(layers.Dense(64, activation='relu'))\n",
        "model.add(layers.Dense(46, activation='softmax'))\n",
        "\n",
        "model.compile(optimizer='rmsprop',\n",
        "              loss='mean_squared_error',\n",
        "              metrics=['accuracy'])\n",
        "model.fit(partial_x_train,\n",
        "          partial_y_train,\n",
        "          epochs=8,\n",
        "          batch_size=512,\n",
        "          validation_data=(x_val, y_val))\n",
        "results = model.evaluate(x_test, one_hot_test_labels)\n",
        "print(results)"
      ],
      "execution_count": 0,
      "outputs": [
        {
          "output_type": "stream",
          "text": [
            "Epoch 1/8\n",
            "16/16 [==============================] - 1s 48ms/step - loss: 0.0170 - accuracy: 0.4835 - val_loss: 0.0122 - val_accuracy: 0.6140\n",
            "Epoch 2/8\n",
            "16/16 [==============================] - 1s 44ms/step - loss: 0.0100 - accuracy: 0.6892 - val_loss: 0.0095 - val_accuracy: 0.6930\n",
            "Epoch 3/8\n",
            "16/16 [==============================] - 1s 44ms/step - loss: 0.0082 - accuracy: 0.7260 - val_loss: 0.0088 - val_accuracy: 0.7210\n",
            "Epoch 4/8\n",
            "16/16 [==============================] - 1s 44ms/step - loss: 0.0072 - accuracy: 0.7611 - val_loss: 0.0083 - val_accuracy: 0.7340\n",
            "Epoch 5/8\n",
            "16/16 [==============================] - 1s 44ms/step - loss: 0.0064 - accuracy: 0.7874 - val_loss: 0.0079 - val_accuracy: 0.7580\n",
            "Epoch 6/8\n",
            "16/16 [==============================] - 1s 44ms/step - loss: 0.0058 - accuracy: 0.8089 - val_loss: 0.0078 - val_accuracy: 0.7550\n",
            "Epoch 7/8\n",
            "16/16 [==============================] - 1s 43ms/step - loss: 0.0052 - accuracy: 0.8292 - val_loss: 0.0076 - val_accuracy: 0.7670\n",
            "Epoch 8/8\n",
            "16/16 [==============================] - 1s 45ms/step - loss: 0.0047 - accuracy: 0.8533 - val_loss: 0.0073 - val_accuracy: 0.7850\n",
            "71/71 [==============================] - 0s 4ms/step - loss: 0.0078 - accuracy: 0.7582\n",
            "[0.0078001683577895164, 0.7582368850708008]\n"
          ],
          "name": "stdout"
        }
      ]
    },
    {
      "cell_type": "code",
      "metadata": {
        "colab_type": "code",
        "outputId": "e0320527-578d-4669-928d-f6edc4533a8b",
        "id": "1YVDtfG1JCFA",
        "colab": {
          "base_uri": "https://localhost:8080/",
          "height": 1000
        }
      },
      "source": [
        "from sklearn.metrics import classification_report, confusion_matrix\n",
        "\n",
        "predictions = model.predict(x_test)\n",
        "predicted_labels=[np.argmax(prediction) for prediction in predictions ]\n",
        "\n",
        "cm = confusion_matrix(test_labels, predicted_labels)\n",
        "print(cm)\n",
        "print(classification_report(test_labels, predicted_labels))"
      ],
      "execution_count": 0,
      "outputs": [
        {
          "output_type": "stream",
          "text": [
            "[[ 6  1  0 ...  0  0  0]\n",
            " [ 0 85  0 ...  0  0  0]\n",
            " [ 1  1 12 ...  0  0  0]\n",
            " ...\n",
            " [ 0  0  0 ...  0  0  0]\n",
            " [ 0  0  0 ...  0  4  0]\n",
            " [ 0  0  0 ...  0  0  0]]\n",
            "              precision    recall  f1-score   support\n",
            "\n",
            "           0       0.60      0.50      0.55        12\n",
            "           1       0.71      0.81      0.76       105\n",
            "           2       0.55      0.60      0.57        20\n",
            "           3       0.91      0.95      0.93       813\n",
            "           4       0.87      0.86      0.86       474\n",
            "           5       0.00      0.00      0.00         5\n",
            "           6       0.00      0.00      0.00        14\n",
            "           7       0.00      0.00      0.00         3\n",
            "           8       0.20      0.71      0.31        38\n",
            "           9       0.57      0.68      0.62        25\n",
            "          10       0.72      0.87      0.79        30\n",
            "          11       0.61      0.77      0.68        83\n",
            "          12       0.00      0.00      0.00        13\n",
            "          13       0.46      0.70      0.56        37\n",
            "          14       0.00      0.00      0.00         2\n",
            "          15       0.00      0.00      0.00         9\n",
            "          16       0.71      0.81      0.75        99\n",
            "          17       0.00      0.00      0.00        12\n",
            "          18       0.56      0.45      0.50        20\n",
            "          19       0.60      0.75      0.67       133\n",
            "          20       0.72      0.37      0.49        70\n",
            "          21       0.45      0.85      0.59        27\n",
            "          22       0.00      0.00      0.00         7\n",
            "          23       0.00      0.00      0.00        12\n",
            "          24       0.00      0.00      0.00        19\n",
            "          25       0.65      0.55      0.60        31\n",
            "          26       0.00      0.00      0.00         8\n",
            "          27       0.00      0.00      0.00         4\n",
            "          28       0.00      0.00      0.00        10\n",
            "          29       0.00      0.00      0.00         4\n",
            "          30       0.00      0.00      0.00        12\n",
            "          31       0.00      0.00      0.00        13\n",
            "          32       0.00      0.00      0.00        10\n",
            "          33       0.00      0.00      0.00         5\n",
            "          34       0.00      0.00      0.00         7\n",
            "          35       0.00      0.00      0.00         6\n",
            "          36       0.00      0.00      0.00        11\n",
            "          37       0.00      0.00      0.00         2\n",
            "          38       0.00      0.00      0.00         3\n",
            "          39       0.00      0.00      0.00         5\n",
            "          40       0.00      0.00      0.00        10\n",
            "          41       0.00      0.00      0.00         8\n",
            "          42       0.00      0.00      0.00         3\n",
            "          43       0.00      0.00      0.00         6\n",
            "          44       1.00      0.80      0.89         5\n",
            "          45       0.00      0.00      0.00         1\n",
            "\n",
            "    accuracy                           0.76      2246\n",
            "   macro avg       0.24      0.26      0.24      2246\n",
            "weighted avg       0.71      0.76      0.73      2246\n",
            "\n"
          ],
          "name": "stdout"
        },
        {
          "output_type": "stream",
          "text": [
            "/usr/local/lib/python3.6/dist-packages/sklearn/metrics/_classification.py:1272: UndefinedMetricWarning: Precision and F-score are ill-defined and being set to 0.0 in labels with no predicted samples. Use `zero_division` parameter to control this behavior.\n",
            "  _warn_prf(average, modifier, msg_start, len(result))\n"
          ],
          "name": "stderr"
        }
      ]
    },
    {
      "cell_type": "markdown",
      "metadata": {
        "id": "_rIia9o6N7Yv",
        "colab_type": "text"
      },
      "source": [
        "#użycie funkcji aktywacji tanh"
      ]
    },
    {
      "cell_type": "code",
      "metadata": {
        "id": "StGf-9E3OQzJ",
        "colab_type": "code",
        "outputId": "56e27daa-e082-4a78-80dd-4ecc19209f0b",
        "colab": {
          "base_uri": "https://localhost:8080/",
          "height": 323
        }
      },
      "source": [
        "model = models.Sequential()\n",
        "model.add(layers.Dense(64, activation='tanh', input_shape=(10000,)))\n",
        "model.add(layers.Dense(64, activation='tanh'))\n",
        "model.add(layers.Dense(46, activation='softmax'))\n",
        "\n",
        "model.compile(optimizer='rmsprop',\n",
        "              loss='categorical_crossentropy',\n",
        "              metrics=['accuracy'])\n",
        "model.fit(partial_x_train,\n",
        "          partial_y_train,\n",
        "          epochs=8,\n",
        "          batch_size=512,\n",
        "          validation_data=(x_val, y_val))\n",
        "results = model.evaluate(x_test, one_hot_test_labels)\n",
        "print(results)"
      ],
      "execution_count": 0,
      "outputs": [
        {
          "output_type": "stream",
          "text": [
            "Epoch 1/8\n",
            "16/16 [==============================] - 1s 52ms/step - loss: 2.2781 - accuracy: 0.5515 - val_loss: 1.5890 - val_accuracy: 0.6600\n",
            "Epoch 2/8\n",
            "16/16 [==============================] - 1s 66ms/step - loss: 1.3101 - accuracy: 0.7279 - val_loss: 1.2346 - val_accuracy: 0.7490\n",
            "Epoch 3/8\n",
            "16/16 [==============================] - 1s 45ms/step - loss: 0.9777 - accuracy: 0.8038 - val_loss: 1.0606 - val_accuracy: 0.7800\n",
            "Epoch 4/8\n",
            "16/16 [==============================] - 1s 44ms/step - loss: 0.7584 - accuracy: 0.8527 - val_loss: 0.9669 - val_accuracy: 0.7960\n",
            "Epoch 5/8\n",
            "16/16 [==============================] - 1s 44ms/step - loss: 0.5933 - accuracy: 0.8894 - val_loss: 0.8987 - val_accuracy: 0.8090\n",
            "Epoch 6/8\n",
            "16/16 [==============================] - 1s 44ms/step - loss: 0.4677 - accuracy: 0.9163 - val_loss: 0.8640 - val_accuracy: 0.8200\n",
            "Epoch 7/8\n",
            "16/16 [==============================] - 1s 43ms/step - loss: 0.3703 - accuracy: 0.9330 - val_loss: 0.8367 - val_accuracy: 0.8240\n",
            "Epoch 8/8\n",
            "16/16 [==============================] - 1s 44ms/step - loss: 0.2979 - accuracy: 0.9424 - val_loss: 0.8435 - val_accuracy: 0.8120\n",
            "71/71 [==============================] - 0s 2ms/step - loss: 0.9467 - accuracy: 0.7876\n",
            "[0.9466673135757446, 0.7876224517822266]\n"
          ],
          "name": "stdout"
        }
      ]
    },
    {
      "cell_type": "code",
      "metadata": {
        "id": "3swKDImyOVEl",
        "colab_type": "code",
        "outputId": "944aea2e-a7c4-444a-99d0-570ec19b0b18",
        "colab": {
          "base_uri": "https://localhost:8080/",
          "height": 1000
        }
      },
      "source": [
        "from sklearn.metrics import classification_report, confusion_matrix\n",
        "\n",
        "predictions = model.predict(x_test)\n",
        "predicted_labels=[np.argmax(prediction) for prediction in predictions ]\n",
        "\n",
        "cm = confusion_matrix(test_labels, predicted_labels)\n",
        "print(cm)\n",
        "print(classification_report(test_labels, predicted_labels))"
      ],
      "execution_count": 0,
      "outputs": [
        {
          "output_type": "stream",
          "text": [
            "[[ 7  2  0 ...  0  0  0]\n",
            " [ 0 84  0 ...  0  0  0]\n",
            " [ 0  3 13 ...  0  0  0]\n",
            " ...\n",
            " [ 0  0  0 ...  3  0  0]\n",
            " [ 0  0  0 ...  0  4  0]\n",
            " [ 0  0  0 ...  0  0  0]]\n",
            "              precision    recall  f1-score   support\n",
            "\n",
            "           0       0.88      0.58      0.70        12\n",
            "           1       0.63      0.80      0.71       105\n",
            "           2       0.81      0.65      0.72        20\n",
            "           3       0.90      0.94      0.92       813\n",
            "           4       0.78      0.90      0.84       474\n",
            "           5       0.00      0.00      0.00         5\n",
            "           6       0.76      0.93      0.84        14\n",
            "           7       1.00      0.33      0.50         3\n",
            "           8       0.74      0.66      0.69        38\n",
            "           9       0.85      0.68      0.76        25\n",
            "          10       0.88      0.77      0.82        30\n",
            "          11       0.61      0.73      0.67        83\n",
            "          12       0.00      0.00      0.00        13\n",
            "          13       0.64      0.62      0.63        37\n",
            "          14       0.00      0.00      0.00         2\n",
            "          15       0.50      0.11      0.18         9\n",
            "          16       0.67      0.79      0.73        99\n",
            "          17       1.00      0.08      0.15        12\n",
            "          18       0.55      0.60      0.57        20\n",
            "          19       0.65      0.68      0.67       133\n",
            "          20       0.63      0.53      0.57        70\n",
            "          21       0.72      0.67      0.69        27\n",
            "          22       0.00      0.00      0.00         7\n",
            "          23       0.62      0.42      0.50        12\n",
            "          24       0.60      0.32      0.41        19\n",
            "          25       0.83      0.61      0.70        31\n",
            "          26       1.00      0.25      0.40         8\n",
            "          27       1.00      0.25      0.40         4\n",
            "          28       0.00      0.00      0.00        10\n",
            "          29       0.33      0.25      0.29         4\n",
            "          30       0.67      0.50      0.57        12\n",
            "          31       0.71      0.38      0.50        13\n",
            "          32       1.00      0.60      0.75        10\n",
            "          33       1.00      0.80      0.89         5\n",
            "          34       0.80      0.57      0.67         7\n",
            "          35       1.00      0.17      0.29         6\n",
            "          36       0.50      0.09      0.15        11\n",
            "          37       0.33      0.50      0.40         2\n",
            "          38       1.00      0.33      0.50         3\n",
            "          39       0.00      0.00      0.00         5\n",
            "          40       0.00      0.00      0.00        10\n",
            "          41       0.50      0.12      0.20         8\n",
            "          42       1.00      0.33      0.50         3\n",
            "          43       1.00      0.50      0.67         6\n",
            "          44       1.00      0.80      0.89         5\n",
            "          45       0.00      0.00      0.00         1\n",
            "\n",
            "    accuracy                           0.79      2246\n",
            "   macro avg       0.63      0.43      0.48      2246\n",
            "weighted avg       0.77      0.79      0.77      2246\n",
            "\n"
          ],
          "name": "stdout"
        },
        {
          "output_type": "stream",
          "text": [
            "/usr/local/lib/python3.6/dist-packages/sklearn/metrics/_classification.py:1272: UndefinedMetricWarning: Precision and F-score are ill-defined and being set to 0.0 in labels with no predicted samples. Use `zero_division` parameter to control this behavior.\n",
            "  _warn_prf(average, modifier, msg_start, len(result))\n"
          ],
          "name": "stderr"
        }
      ]
    }
  ]
}